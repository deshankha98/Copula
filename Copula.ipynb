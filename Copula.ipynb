{
  "nbformat": 4,
  "nbformat_minor": 0,
  "metadata": {
    "colab": {
      "name": "Copula.ipynb",
      "provenance": [],
      "collapsed_sections": []
    },
    "kernelspec": {
      "display_name": "Python 3",
      "name": "python3"
    },
    "language_info": {
      "name": "python"
    }
  },
  "cells": [
    {
      "cell_type": "code",
      "metadata": {
        "colab": {
          "resources": {
            "http://localhost:8080/nbextensions/google.colab/files.js": {
              "data": "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",
              "headers": [
                [
                  "content-type",
                  "application/javascript"
                ]
              ],
              "ok": true,
              "status": 200,
              "status_text": ""
            }
          },
          "base_uri": "https://localhost:8080/",
          "height": 72
        },
        "id": "e_DUpuB4DvRx",
        "outputId": "c6aa0576-a73a-4b8e-c85f-b7df3d147249"
      },
      "source": [
        "from google.colab import files\n",
        "\n",
        "uploaded=files.upload()"
      ],
      "execution_count": null,
      "outputs": [
        {
          "data": {
            "text/html": [
              "\n",
              "     <input type=\"file\" id=\"files-0e4b4d2e-de34-4a90-85b4-10cab3d88e63\" name=\"files[]\" multiple disabled\n",
              "        style=\"border:none\" />\n",
              "     <output id=\"result-0e4b4d2e-de34-4a90-85b4-10cab3d88e63\">\n",
              "      Upload widget is only available when the cell has been executed in the\n",
              "      current browser session. Please rerun this cell to enable.\n",
              "      </output>\n",
              "      <script src=\"/nbextensions/google.colab/files.js\"></script> "
            ],
            "text/plain": [
              "<IPython.core.display.HTML object>"
            ]
          },
          "metadata": {
            "tags": []
          },
          "output_type": "display_data"
        },
        {
          "name": "stdout",
          "output_type": "stream",
          "text": [
            "Saving ITC_1d_1Y.csv to ITC_1d_1Y.csv\n"
          ]
        }
      ]
    },
    {
      "cell_type": "code",
      "metadata": {
        "colab": {
          "resources": {
            "http://localhost:8080/nbextensions/google.colab/files.js": {
              "data": "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",
              "headers": [
                [
                  "content-type",
                  "application/javascript"
                ]
              ],
              "ok": true,
              "status": 200,
              "status_text": ""
            }
          },
          "base_uri": "https://localhost:8080/",
          "height": 72
        },
        "id": "GO_gT4mWFMKM",
        "outputId": "3cba8480-6098-4fb6-e6ee-f874e6df9c75"
      },
      "source": [
        "from google.colab import files\n",
        "\n",
        "uploaded=files.upload()"
      ],
      "execution_count": null,
      "outputs": [
        {
          "data": {
            "text/html": [
              "\n",
              "     <input type=\"file\" id=\"files-5b2be050-bb02-46a7-9991-af74a46d8474\" name=\"files[]\" multiple disabled\n",
              "        style=\"border:none\" />\n",
              "     <output id=\"result-5b2be050-bb02-46a7-9991-af74a46d8474\">\n",
              "      Upload widget is only available when the cell has been executed in the\n",
              "      current browser session. Please rerun this cell to enable.\n",
              "      </output>\n",
              "      <script src=\"/nbextensions/google.colab/files.js\"></script> "
            ],
            "text/plain": [
              "<IPython.core.display.HTML object>"
            ]
          },
          "metadata": {
            "tags": []
          },
          "output_type": "display_data"
        },
        {
          "name": "stdout",
          "output_type": "stream",
          "text": [
            "Saving NIFTY_ETF_1day.csv to NIFTY_ETF_1day.csv\n"
          ]
        }
      ]
    },
    {
      "cell_type": "code",
      "metadata": {
        "colab": {
          "base_uri": "https://localhost:8080/",
          "height": 1000
        },
        "id": "UJmjGn2rTdxU",
        "outputId": "7d1686ff-49ee-4c3a-84d2-e8dc6c4b647d"
      },
      "source": [
        "!pip install --upgrade pip\n",
        "!pip install copulae\n",
        "!pip install copulas\n",
        "!pip uninstall numpy\n",
        "!pip install numpy"
      ],
      "execution_count": null,
      "outputs": [
        {
          "output_type": "stream",
          "name": "stdout",
          "text": [
            "Requirement already satisfied: pip in /usr/local/lib/python3.7/dist-packages (21.1.3)\n",
            "Collecting pip\n",
            "  Downloading pip-21.2.4-py3-none-any.whl (1.6 MB)\n",
            "\u001b[K     |████████████████████████████████| 1.6 MB 5.4 MB/s \n",
            "\u001b[?25hInstalling collected packages: pip\n",
            "  Attempting uninstall: pip\n",
            "    Found existing installation: pip 21.1.3\n",
            "    Uninstalling pip-21.1.3:\n",
            "      Successfully uninstalled pip-21.1.3\n",
            "Successfully installed pip-21.2.4\n",
            "Collecting copulae\n",
            "  Downloading copulae-0.7.5-cp37-cp37m-manylinux1_x86_64.whl (2.0 MB)\n",
            "\u001b[K     |████████████████████████████████| 2.0 MB 5.3 MB/s \n",
            "\u001b[?25hCollecting statsmodels>=0.12.1\n",
            "  Downloading statsmodels-0.12.2-cp37-cp37m-manylinux1_x86_64.whl (9.5 MB)\n",
            "\u001b[K     |████████████████████████████████| 9.5 MB 45.8 MB/s \n",
            "\u001b[?25hRequirement already satisfied: typing-extensions>=3.7.4.3 in /usr/local/lib/python3.7/dist-packages (from copulae) (3.7.4.3)\n",
            "Requirement already satisfied: numpy>=1.19 in /usr/local/lib/python3.7/dist-packages (from copulae) (1.19.5)\n",
            "Requirement already satisfied: wheel>=0.36 in /usr/local/lib/python3.7/dist-packages (from copulae) (0.37.0)\n",
            "Collecting scikit-learn>=0.23\n",
            "  Downloading scikit_learn-0.24.2-cp37-cp37m-manylinux2010_x86_64.whl (22.3 MB)\n",
            "\u001b[K     |████████████████████████████████| 22.3 MB 4.3 MB/s \n",
            "\u001b[?25hCollecting scipy>=1.5\n",
            "  Downloading scipy-1.7.1-cp37-cp37m-manylinux_2_5_x86_64.manylinux1_x86_64.whl (28.5 MB)\n",
            "\u001b[K     |████████████████████████████████| 28.5 MB 49 kB/s \n",
            "\u001b[?25hRequirement already satisfied: pandas>=1.1 in /usr/local/lib/python3.7/dist-packages (from copulae) (1.1.5)\n",
            "Requirement already satisfied: wrapt>=1.12 in /usr/local/lib/python3.7/dist-packages (from copulae) (1.12.1)\n",
            "Requirement already satisfied: pytz>=2017.2 in /usr/local/lib/python3.7/dist-packages (from pandas>=1.1->copulae) (2018.9)\n",
            "Requirement already satisfied: python-dateutil>=2.7.3 in /usr/local/lib/python3.7/dist-packages (from pandas>=1.1->copulae) (2.8.2)\n",
            "Requirement already satisfied: six>=1.5 in /usr/local/lib/python3.7/dist-packages (from python-dateutil>=2.7.3->pandas>=1.1->copulae) (1.15.0)\n",
            "Collecting threadpoolctl>=2.0.0\n",
            "  Downloading threadpoolctl-2.2.0-py3-none-any.whl (12 kB)\n",
            "Requirement already satisfied: joblib>=0.11 in /usr/local/lib/python3.7/dist-packages (from scikit-learn>=0.23->copulae) (1.0.1)\n",
            "Requirement already satisfied: patsy>=0.5 in /usr/local/lib/python3.7/dist-packages (from statsmodels>=0.12.1->copulae) (0.5.1)\n",
            "Installing collected packages: threadpoolctl, scipy, statsmodels, scikit-learn, copulae\n",
            "  Attempting uninstall: scipy\n",
            "    Found existing installation: scipy 1.4.1\n",
            "    Uninstalling scipy-1.4.1:\n",
            "      Successfully uninstalled scipy-1.4.1\n",
            "  Attempting uninstall: statsmodels\n",
            "    Found existing installation: statsmodels 0.10.2\n",
            "    Uninstalling statsmodels-0.10.2:\n",
            "      Successfully uninstalled statsmodels-0.10.2\n",
            "  Attempting uninstall: scikit-learn\n",
            "    Found existing installation: scikit-learn 0.22.2.post1\n",
            "    Uninstalling scikit-learn-0.22.2.post1:\n",
            "      Successfully uninstalled scikit-learn-0.22.2.post1\n",
            "\u001b[31mERROR: pip's dependency resolver does not currently take into account all the packages that are installed. This behaviour is the source of the following dependency conflicts.\n",
            "albumentations 0.1.12 requires imgaug<0.2.7,>=0.2.5, but you have imgaug 0.2.9 which is incompatible.\u001b[0m\n",
            "Successfully installed copulae-0.7.5 scikit-learn-0.24.2 scipy-1.7.1 statsmodels-0.12.2 threadpoolctl-2.2.0\n",
            "\u001b[33mWARNING: Running pip as the 'root' user can result in broken permissions and conflicting behaviour with the system package manager. It is recommended to use a virtual environment instead: https://pip.pypa.io/warnings/venv\u001b[0m\n",
            "Collecting copulas\n",
            "  Downloading copulas-0.5.1-py2.py3-none-any.whl (50 kB)\n",
            "\u001b[K     |████████████████████████████████| 50 kB 3.0 MB/s \n",
            "\u001b[?25hRequirement already satisfied: matplotlib<4,>=3.2.0 in /usr/local/lib/python3.7/dist-packages (from copulas) (3.2.2)\n",
            "Requirement already satisfied: scipy<2,>=1.4.1 in /usr/local/lib/python3.7/dist-packages (from copulas) (1.7.1)\n",
            "Collecting pandas<1.1.5,>=1.0\n",
            "  Downloading pandas-1.1.4-cp37-cp37m-manylinux1_x86_64.whl (9.5 MB)\n",
            "\u001b[K     |████████████████████████████████| 9.5 MB 10.3 MB/s \n",
            "\u001b[?25hRequirement already satisfied: numpy<2,>=1.18.0 in /usr/local/lib/python3.7/dist-packages (from copulas) (1.19.5)\n",
            "Requirement already satisfied: python-dateutil>=2.1 in /usr/local/lib/python3.7/dist-packages (from matplotlib<4,>=3.2.0->copulas) (2.8.2)\n",
            "Requirement already satisfied: cycler>=0.10 in /usr/local/lib/python3.7/dist-packages (from matplotlib<4,>=3.2.0->copulas) (0.10.0)\n",
            "Requirement already satisfied: kiwisolver>=1.0.1 in /usr/local/lib/python3.7/dist-packages (from matplotlib<4,>=3.2.0->copulas) (1.3.2)\n",
            "Requirement already satisfied: pyparsing!=2.0.4,!=2.1.2,!=2.1.6,>=2.0.1 in /usr/local/lib/python3.7/dist-packages (from matplotlib<4,>=3.2.0->copulas) (2.4.7)\n",
            "Requirement already satisfied: six in /usr/local/lib/python3.7/dist-packages (from cycler>=0.10->matplotlib<4,>=3.2.0->copulas) (1.15.0)\n",
            "Requirement already satisfied: pytz>=2017.2 in /usr/local/lib/python3.7/dist-packages (from pandas<1.1.5,>=1.0->copulas) (2018.9)\n",
            "Installing collected packages: pandas, copulas\n",
            "  Attempting uninstall: pandas\n",
            "    Found existing installation: pandas 1.1.5\n",
            "    Uninstalling pandas-1.1.5:\n",
            "      Successfully uninstalled pandas-1.1.5\n",
            "Successfully installed copulas-0.5.1 pandas-1.1.4\n",
            "\u001b[33mWARNING: Running pip as the 'root' user can result in broken permissions and conflicting behaviour with the system package manager. It is recommended to use a virtual environment instead: https://pip.pypa.io/warnings/venv\u001b[0m\n"
          ]
        },
        {
          "output_type": "display_data",
          "data": {
            "application/vnd.colab-display-data+json": {
              "pip_warning": {
                "packages": [
                  "pandas"
                ]
              }
            }
          },
          "metadata": {}
        },
        {
          "output_type": "stream",
          "name": "stdout",
          "text": [
            "Found existing installation: numpy 1.19.5\n",
            "Uninstalling numpy-1.19.5:\n",
            "  Would remove:\n",
            "    /usr/bin/f2py\n",
            "    /usr/local/bin/f2py\n",
            "    /usr/local/bin/f2py3\n",
            "    /usr/local/bin/f2py3.7\n",
            "    /usr/local/lib/python3.7/dist-packages/numpy-1.19.5.dist-info/*\n",
            "    /usr/local/lib/python3.7/dist-packages/numpy.libs/libgfortran-2e0d59d6.so.5.0.0\n",
            "    /usr/local/lib/python3.7/dist-packages/numpy.libs/libopenblasp-r0-09e95953.3.13.so\n",
            "    /usr/local/lib/python3.7/dist-packages/numpy.libs/libquadmath-2d0c479f.so.0.0.0\n",
            "    /usr/local/lib/python3.7/dist-packages/numpy.libs/libz-eb09ad1d.so.1.2.3\n",
            "    /usr/local/lib/python3.7/dist-packages/numpy/*\n",
            "Proceed (Y/n)? y\n",
            "  Successfully uninstalled numpy-1.19.5\n",
            "\u001b[33mWARNING: Running pip as the 'root' user can result in broken permissions and conflicting behaviour with the system package manager. It is recommended to use a virtual environment instead: https://pip.pypa.io/warnings/venv\u001b[0m\n",
            "Collecting numpy\n",
            "  Downloading numpy-1.21.2-cp37-cp37m-manylinux_2_12_x86_64.manylinux2010_x86_64.whl (15.7 MB)\n",
            "\u001b[K     |████████████████████████████████| 15.7 MB 190 kB/s \n",
            "\u001b[?25hInstalling collected packages: numpy\n",
            "\u001b[31mERROR: pip's dependency resolver does not currently take into account all the packages that are installed. This behaviour is the source of the following dependency conflicts.\n",
            "tensorflow 2.6.0 requires numpy~=1.19.2, but you have numpy 1.21.2 which is incompatible.\n",
            "datascience 0.10.6 requires folium==0.2.1, but you have folium 0.8.3 which is incompatible.\n",
            "albumentations 0.1.12 requires imgaug<0.2.7,>=0.2.5, but you have imgaug 0.2.9 which is incompatible.\u001b[0m\n",
            "Successfully installed numpy-1.21.2\n",
            "\u001b[33mWARNING: Running pip as the 'root' user can result in broken permissions and conflicting behaviour with the system package manager. It is recommended to use a virtual environment instead: https://pip.pypa.io/warnings/venv\u001b[0m\n"
          ]
        },
        {
          "output_type": "display_data",
          "data": {
            "application/vnd.colab-display-data+json": {
              "pip_warning": {
                "packages": [
                  "numpy"
                ]
              }
            }
          },
          "metadata": {}
        }
      ]
    },
    {
      "cell_type": "markdown",
      "metadata": {
        "id": "byFefqsuT6dn"
      },
      "source": [
        ""
      ]
    },
    {
      "cell_type": "code",
      "metadata": {
        "colab": {
          "base_uri": "https://localhost:8080/"
        },
        "id": "X8wUJ7cZrv2v",
        "outputId": "6076349f-cedb-46b3-cf74-507deafb145a"
      },
      "source": [
        "!pip install johansen"
      ],
      "execution_count": null,
      "outputs": [
        {
          "name": "stdout",
          "output_type": "stream",
          "text": [
            "Collecting johansen\n",
            "  Downloading johansen-0.0.4.tar.gz (5.1 kB)\n",
            "Requirement already satisfied: scipy>=0.18.0 in /usr/local/lib/python3.7/dist-packages (from johansen) (1.7.1)\n",
            "Requirement already satisfied: statsmodels>=0.6.1 in /usr/local/lib/python3.7/dist-packages (from johansen) (0.12.2)\n",
            "Requirement already satisfied: numpy>=1.11.1 in /usr/local/lib/python3.7/dist-packages (from johansen) (1.21.2)\n",
            "Requirement already satisfied: pandas>=0.18.1 in /usr/local/lib/python3.7/dist-packages (from johansen) (1.1.4)\n",
            "Requirement already satisfied: pytz>=2017.2 in /usr/local/lib/python3.7/dist-packages (from pandas>=0.18.1->johansen) (2018.9)\n",
            "Requirement already satisfied: python-dateutil>=2.7.3 in /usr/local/lib/python3.7/dist-packages (from pandas>=0.18.1->johansen) (2.8.2)\n",
            "Requirement already satisfied: six>=1.5 in /usr/local/lib/python3.7/dist-packages (from python-dateutil>=2.7.3->pandas>=0.18.1->johansen) (1.15.0)\n",
            "Requirement already satisfied: patsy>=0.5 in /usr/local/lib/python3.7/dist-packages (from statsmodels>=0.6.1->johansen) (0.5.1)\n",
            "Building wheels for collected packages: johansen\n",
            "  Building wheel for johansen (setup.py) ... \u001b[?25l\u001b[?25hdone\n",
            "  Created wheel for johansen: filename=johansen-0.0.4-py3-none-any.whl size=5626 sha256=f85010cfad9722a1aa8c0b096bd2e4750961587463ea03023b542d138daca496\n",
            "  Stored in directory: /root/.cache/pip/wheels/1c/c5/b3/b1bf364fd5338606863e8e45b56fedaf9377b65617c8669303\n",
            "Successfully built johansen\n",
            "Installing collected packages: johansen\n",
            "Successfully installed johansen-0.0.4\n",
            "\u001b[33mWARNING: Running pip as the 'root' user can result in broken permissions and conflicting behaviour with the system package manager. It is recommended to use a virtual environment instead: https://pip.pypa.io/warnings/venv\u001b[0m\n"
          ]
        }
      ]
    },
    {
      "cell_type": "code",
      "metadata": {
        "colab": {
          "base_uri": "https://localhost:8080/"
        },
        "id": "NASefOnOJYdy",
        "outputId": "a3947141-3945-46dc-ee4e-473a77f084af"
      },
      "source": [
        "!pip install yfinance"
      ],
      "execution_count": null,
      "outputs": [
        {
          "output_type": "stream",
          "name": "stdout",
          "text": [
            "Collecting yfinance\n",
            "  Downloading yfinance-0.1.63.tar.gz (26 kB)\n",
            "Requirement already satisfied: pandas>=0.24 in /usr/local/lib/python3.7/dist-packages (from yfinance) (1.1.4)\n",
            "Requirement already satisfied: numpy>=1.15 in /usr/local/lib/python3.7/dist-packages (from yfinance) (1.21.2)\n",
            "Requirement already satisfied: requests>=2.20 in /usr/local/lib/python3.7/dist-packages (from yfinance) (2.23.0)\n",
            "Requirement already satisfied: multitasking>=0.0.7 in /usr/local/lib/python3.7/dist-packages (from yfinance) (0.0.9)\n",
            "Collecting lxml>=4.5.1\n",
            "  Downloading lxml-4.6.3-cp37-cp37m-manylinux2014_x86_64.whl (6.3 MB)\n",
            "\u001b[K     |████████████████████████████████| 6.3 MB 7.8 MB/s \n",
            "\u001b[?25hRequirement already satisfied: python-dateutil>=2.7.3 in /usr/local/lib/python3.7/dist-packages (from pandas>=0.24->yfinance) (2.8.2)\n",
            "Requirement already satisfied: pytz>=2017.2 in /usr/local/lib/python3.7/dist-packages (from pandas>=0.24->yfinance) (2018.9)\n",
            "Requirement already satisfied: six>=1.5 in /usr/local/lib/python3.7/dist-packages (from python-dateutil>=2.7.3->pandas>=0.24->yfinance) (1.15.0)\n",
            "Requirement already satisfied: idna<3,>=2.5 in /usr/local/lib/python3.7/dist-packages (from requests>=2.20->yfinance) (2.10)\n",
            "Requirement already satisfied: chardet<4,>=3.0.2 in /usr/local/lib/python3.7/dist-packages (from requests>=2.20->yfinance) (3.0.4)\n",
            "Requirement already satisfied: certifi>=2017.4.17 in /usr/local/lib/python3.7/dist-packages (from requests>=2.20->yfinance) (2021.5.30)\n",
            "Requirement already satisfied: urllib3!=1.25.0,!=1.25.1,<1.26,>=1.21.1 in /usr/local/lib/python3.7/dist-packages (from requests>=2.20->yfinance) (1.24.3)\n",
            "Building wheels for collected packages: yfinance\n",
            "  Building wheel for yfinance (setup.py) ... \u001b[?25l\u001b[?25hdone\n",
            "  Created wheel for yfinance: filename=yfinance-0.1.63-py2.py3-none-any.whl size=23918 sha256=62098389c848346375aef3ce5e7cd963cd45a3a583255b63514ad54a374600ad\n",
            "  Stored in directory: /root/.cache/pip/wheels/fe/87/8b/7ec24486e001d3926537f5f7801f57a74d181be25b11157983\n",
            "Successfully built yfinance\n",
            "Installing collected packages: lxml, yfinance\n",
            "  Attempting uninstall: lxml\n",
            "    Found existing installation: lxml 4.2.6\n",
            "    Uninstalling lxml-4.2.6:\n",
            "      Successfully uninstalled lxml-4.2.6\n",
            "Successfully installed lxml-4.6.3 yfinance-0.1.63\n",
            "\u001b[33mWARNING: Running pip as the 'root' user can result in broken permissions and conflicting behaviour with the system package manager. It is recommended to use a virtual environment instead: https://pip.pypa.io/warnings/venv\u001b[0m\n"
          ]
        }
      ]
    },
    {
      "cell_type": "code",
      "metadata": {
        "id": "UeS5Rn6wKZz5"
      },
      "source": [
        "from copulae import StudentCopula\n",
        "import statsmodels.tsa.stattools as ts \n",
        "import yfinance as yf\n",
        "import numpy as np\n",
        "import pandas as pd\n",
        "from scipy.stats import invgamma, chi2, t\n",
        "import statsmodels.api as sm\n",
        "from statsmodels.tsa.stattools import adfuller\n",
        "import matplotlib.pyplot as plt\n",
        "import copy\n",
        "from copulas.multivariate import GaussianMultivariate\n",
        "from copulas.univariate import StudentTUnivariate\n",
        "from copulas.univariate import GaussianUnivariate\n",
        "from copulas.multivariate import VineCopula\n",
        "from statsmodels.distributions.empirical_distribution import ECDF\n",
        "from scipy.stats import kendalltau, pearsonr, spearmanr\n",
        "import math\n",
        "from statsmodels.distributions.empirical_distribution import ECDF\n",
        "from scipy.stats import kendalltau, pearsonr, spearmanr\n",
        "pi_global = 3.14159"
      ],
      "execution_count": null,
      "outputs": []
    },
    {
      "cell_type": "code",
      "metadata": {
        "id": "4I7nRUS1JNJo"
      },
      "source": [
        "def plot(x, scaleFactor = 1):\n",
        "  plt.plot(x)\n",
        "  xMin_xaxis, xMax_xaxis = plt.xlim()\n",
        "  xMin_yaxis, xMax_yaxis = plt.ylim()\n",
        "  plt.ylim(xMin_yaxis * scaleFactor, xMax_yaxis * scaleFactor)\n",
        "  plt.xlim(xMin_xaxis * scaleFactor, xMax_xaxis * scaleFactor)\n",
        "  plt.show()\n",
        "def fitCopula(data, cop):\n",
        "  cop.fit(data,to_pobs=True,fix_df=False)\n",
        "  print(cop.summary())\n",
        "  print(cop.params)\n",
        "  return cop\n",
        "\n",
        "def diff_returns(x):\n",
        "  lenx = len(x)\n",
        "  diffreturnsX = []\n",
        "  for i in range(lenx - 1):\n",
        "    diffreturnsX.append((x[i+1] - x[i])/x[i])\n",
        "  return np.array(diffreturnsX)\n",
        "\n",
        "def returns(x):\n",
        "  lenx = len(x)\n",
        "  returnsX = []\n",
        "  for i in range(1, lenx, 1):\n",
        "    returnsX.append(np.log(x[i]/x[i - 1]))\n",
        "  return np.array(returnsX).reshape(lenx - 1, 1)\n",
        "\n",
        "def datafetcher(sym, num_days = 365):\n",
        "  hist = yf.Ticker(sym)\n",
        "  hist = hist.history(period = str(num_days) + \"d\")\n",
        "  return hist\n",
        "\n",
        "#Index(['Open', 'High', 'Low', 'Close', 'Volume', 'Dividends', 'Stock Splits'], dtype='object')\n",
        "\n",
        "\n",
        "def get_pair_data(sym1, sym2, num_days = 365):\n",
        "  #Used to get pairs data using symbols sym1, sym2\n",
        "  hist1 = datafetcher(sym1, num_days = num_days)\n",
        "  open_close1 = hist1[[\"Open\", \"Close\"]]\n",
        "  open_close1 = open_close1.rename(columns = {\"Open\":\"Open_1\", \"Close\":\"Close_1\"})\n",
        "  open_close1.reset_index(level=0, inplace=True)\n",
        "\n",
        "  hist2 = datafetcher(sym2, num_days = num_days)\n",
        "  open_close2 = hist2[[\"Open\", \"Close\"]]\n",
        "  open_close2 = open_close2.rename(columns = {\"Open\":\"Open_2\", \"Close\":\"Close_2\"})\n",
        "  open_close2.reset_index(level=0, inplace=True)\n",
        "\n",
        "  open_close_joined = pd.merge(open_close1, open_close2, how = 'outer') #Outer join\n",
        "  pair_close_prices = open_close_joined[[\"Close_1\", \"Close_2\"]] #We are only interested in the closing prices as of now\n",
        "  pair_close_prices.ffill(inplace=True) #Replace NaN (missing) values with previous value\n",
        "\n",
        "  close1 = list(pair_close_prices[\"Close_1\"])\n",
        "  close2 = list(pair_close_prices[\"Close_2\"])\n",
        "\n",
        "  return close1, close2\n",
        "\n",
        "\n",
        "\n",
        "\n",
        "def multivariate_t_rvs(m, S, df=np.inf, n=1):\n",
        "    '''generate random variables of multivariate t distribution\n",
        "    Parameters\n",
        "    ----------\n",
        "    m : array_like\n",
        "        mean of random variable, length determines dimension of random variable\n",
        "    S : array_like\n",
        "        square array of covariance  matrix\n",
        "    df : int or float\n",
        "        degrees of freedom\n",
        "    n : int\n",
        "        number of observations, return random array will be (n, len(m))\n",
        "    Returns\n",
        "    -------\n",
        "    rvs : ndarray, (n, len(m))\n",
        "        each row is an independent draw of a multivariate t distributed\n",
        "        random variable\n",
        "    '''\n",
        "    m = np.asarray(m)\n",
        "    d = len(m)\n",
        "    if df == np.inf:\n",
        "        x = 1.\n",
        "    else:\n",
        "        x = np.random.chisquare(df, n)/df\n",
        "    z = np.random.multivariate_normal(np.zeros(d),S,(n,))\n",
        "    return m + z/np.sqrt(x)[:,None]   # same output format as random.multivariate_normal\n",
        "\n",
        "def scatterPlot(x, y):\n",
        "  plt.subplot(1,2,1)\n",
        "  plt.scatter(x[:,0], x[:, 1])\n",
        "  plt.title('ActualDataPlot')\n",
        "  plt.xlabel('x')\n",
        "  plt.ylabel('y')\n",
        "  plt.show()\n",
        "\n",
        "  plt.subplot(1,2,2)\n",
        "  plt.scatter(y[:,0], y[:, 1])\n",
        "  plt.title('copulasSampledDataPlot')\n",
        "  plt.xlabel('x')\n",
        "  plt.ylabel('y')\n",
        "  plt.show()\n",
        "\n",
        "def copulasFitGaussianMulti(data):\n",
        "  dist = GaussianMultivariate(distribution = StudentTUnivariate)\n",
        "  dist.fit(data)\n",
        "  copulasSampleData = np.array(dist.sample(len(data)))\n",
        "  params = dist.to_dict()\n",
        "  for param in params:\n",
        "    print(param, params[param], '\\n')\n",
        "\n",
        "  scatterPlot(data, copulasSampleData)\n",
        "\n",
        "  pdf = dist.pdf(data) \n",
        "  \n",
        "  logLik = 0\n",
        "  for i in range(len(pdf)):\n",
        "    logLik += (-np.log(pdf[i]))\n",
        "  return dist\n",
        "\n",
        "def copulasFitVineCopulaCenter(data):\n",
        "  dist = VineCopula('center')\n",
        "  dist.fit(data)\n",
        "  copulasSampleData = dist.sample(len(data))\n",
        "  params = dist.to_dict()\n",
        "  for param in params:\n",
        "    print(param, params[param], '\\n')\n",
        "\n",
        "  scatterPlot(data, copulasSampleData)\n",
        "\n",
        "  pdf = dist.pdf(data) \n",
        "  logLik = 0\n",
        "  for i in range(len(pdf)):\n",
        "    logLik += (-np.log(pdf[i]))\n",
        "  print(\"logLikelihood:\", logLik)\n",
        "\n",
        "def normalize(x, scale, loc):\n",
        "  return (x - loc)/scale\n",
        "\n",
        "def inv_normalize(x, scale, loc):\n",
        "  return x*scale + loc \n",
        "\n",
        "def copulasFitVineCopulaRegular(data):\n",
        "  dist = VineCopula('regular')\n",
        "  dist.fit(data)\n",
        "  copulasSampleData = dist.sample(len(data))\n",
        "  params = dist.to_dict()\n",
        "  for param in params:\n",
        "    print(param, params[param], '\\n')\n",
        "\n",
        "  scatterPlot(data, copulasSampleData)\n",
        "\n",
        "  pdf = dist.pdf(data) \n",
        "  logLik = 0\n",
        "  for i in range(len(pdf)):\n",
        "    logLik += (-np.log(pdf[i]))\n",
        "  print(\"logLikelihood:\", logLik) \n",
        "\n",
        "def copulasFitVineCopulaDirect(data):\n",
        "  dist = VineCopula('direct')\n",
        "  dist.fit(data)\n",
        "  copulasSampleData = dist.sample(len(data))\n",
        "  params = dist.to_dict()\n",
        "  for param in params:\n",
        "    print(param, params[param], '\\n')\n",
        "\n",
        "  scatterPlot(data, copulasSampleData)\n",
        "\n",
        "  pdf = dist.pdf(data) \n",
        "  logLik = 0\n",
        "  for i in range(len(pdf)):\n",
        "    logLik += (-np.log(pdf[i]))\n",
        "  print(\"logLikelihood:\", logLik)\n"
      ],
      "execution_count": null,
      "outputs": []
    },
    {
      "cell_type": "code",
      "metadata": {
        "colab": {
          "base_uri": "https://localhost:8080/"
        },
        "id": "b8h1BviUKHEv",
        "outputId": "6724ba47-f6b5-47c0-b235-bec1357cb20a"
      },
      "source": [
        "#data = datafetcher('^NSEI', num_days = 365)\n",
        "#Data sanity checks\n",
        "close1, close2 = get_pair_data('ITC', '^NSEI', num_days = 3211)\n",
        "assert len(close1) == len(close2) #Making sure both pairs have same number of close price elements\n",
        "\n",
        "close1_np = np.array(close1)\n",
        "close2_np = np.array(close2)\n",
        "\n",
        "assert np.sum(np.int32(close1==np.nan))==0, \"NaN value(s) present in closing prices\"\n",
        "assert np.sum(np.int32(close2==np.nan))==0, \"NaN value(s) present in closing prices\"\n",
        "\n",
        "log_returns1, log_returns2 = returns(close1), returns(close2)\n",
        "\n",
        "#Check for presence of INF or NaN values\n",
        "assert np.sum(np.int32(log_returns1==np.inf))==0, \"Out of bound value(s) present in stock returns!\"\n",
        "assert np.sum(np.int32(log_returns1==np.nan))==0, \"NaN value(s) present in stock returns!\"\n",
        "\n",
        "#Check for presence of INF or NaN values\n",
        "assert np.sum(np.int32(log_returns2==np.inf))==0, \"Out of bound value(s) present in stock returns!\"\n",
        "assert np.sum(np.int32(log_returns2==np.nan))==0, \"NaN value(s) present in stock returns!\"\n",
        "\n",
        "\n",
        "\n",
        "#print(data)"
      ],
      "execution_count": null,
      "outputs": [
        {
          "output_type": "stream",
          "name": "stderr",
          "text": [
            "/usr/local/lib/python3.7/dist-packages/pandas/core/frame.py:4327: SettingWithCopyWarning: \n",
            "A value is trying to be set on a copy of a slice from a DataFrame\n",
            "\n",
            "See the caveats in the documentation: https://pandas.pydata.org/pandas-docs/stable/user_guide/indexing.html#returning-a-view-versus-a-copy\n",
            "  downcast=downcast,\n"
          ]
        }
      ]
    },
    {
      "cell_type": "code",
      "metadata": {
        "colab": {
          "base_uri": "https://localhost:8080/",
          "height": 632
        },
        "id": "AjwOd24FFR17",
        "outputId": "a7fe0e43-a5f4-4826-9608-f30d538930e3"
      },
      "source": [
        "\n",
        "'''\n",
        "itc = pd.read_csv('ITC_1d_1Y.csv')\n",
        "itc.Datetime = pd.to_datetime(itc.Datetime).dt.date\n",
        "itc.set_index(itc.Datetime,inplace=True)\n",
        "itc = np.array(itc['Close'])\n",
        "itc = itc[np.logical_not(np.isnan(itc))]\n",
        "\n",
        "\n",
        "nifty = pd.read_csv('NIFTY_ETF_1day.csv')\n",
        "nifty.Datetime = pd.to_datetime(nifty.Datetime).dt.date\n",
        "nifty.set_index(nifty.Datetime,inplace=True)\n",
        "nifty = np.array(nifty['Close'])\n",
        "nifty = nifty[np.logical_not(np.isnan(nifty))]\n",
        "'''\n",
        "\n",
        "paired_stocks = [['GOOGLE', 'MSFT']]\n",
        "\n",
        "\n",
        "#itc = datafetcher('KO', num_days = 365 * 10) #itc\n",
        "itc, nifty = get_pair_data('KO', 'PEP', num_days = 3650)\n",
        "itc, nifty = np.array(itc), np.array(nifty)\n",
        "print(itc.shape)\n",
        "itc_shape = itc.shape[0]\n",
        "#nifty = datafetcher('PEP', num_days = 365 * 10) #Pepsi\n",
        "print(nifty.shape)\n",
        "nifty_shape = nifty.shape[0]\n",
        "\n",
        "min_shape = min(itc_shape, nifty_shape)\n",
        "itc = itc[:min_shape]\n",
        "nifty = nifty[:min_shape]\n",
        "\n",
        "\n",
        "\n",
        "\n",
        "plt.plot(nifty)\n",
        "niftyYMin, niftyYMax = plt.ylim()\n",
        "scaleFactor = 1\n",
        "plt.ylim(niftyYMin * scaleFactor, niftyYMax * scaleFactor)\n",
        "plt.show()\n",
        "\n",
        "plt.plot(itc)\n",
        "ItcYMin, ItcYMax = plt.ylim()\n",
        "scaleFactor = 1\n",
        "plt.ylim(ItcYMin * scaleFactor, ItcYMax * scaleFactor)\n",
        "plt.show()\n"
      ],
      "execution_count": null,
      "outputs": [
        {
          "name": "stdout",
          "output_type": "stream",
          "text": [
            "(3650,)\n",
            "(3650,)\n"
          ]
        },
        {
          "name": "stderr",
          "output_type": "stream",
          "text": [
            "/usr/local/lib/python3.7/dist-packages/pandas/core/frame.py:4327: SettingWithCopyWarning: \n",
            "A value is trying to be set on a copy of a slice from a DataFrame\n",
            "\n",
            "See the caveats in the documentation: https://pandas.pydata.org/pandas-docs/stable/user_guide/indexing.html#returning-a-view-versus-a-copy\n",
            "  downcast=downcast,\n"
          ]
        },
        {
          "data": {
            "image/png": "[encoded data removed]",
            "text/plain": [
              "<Figure size 432x288 with 1 Axes>"
            ]
          },
          "metadata": {},
          "output_type": "display_data"
        },
        {
          "data": {
            "image/png": "[encoded data removed]",
            "text/plain": [
              "<Figure size 432x288 with 1 Axes>"
            ]
          },
          "metadata": {},
          "output_type": "display_data"
        }
      ]
    },
    {
      "cell_type": "code",
      "metadata": {
        "colab": {
          "background_save": true,
          "base_uri": "https://localhost:8080/",
          "height": 782
        },
        "id": "yCYVSYs0RTs_",
        "outputId": "416a5e35-5d09-45cb-f301-483134fd7863"
      },
      "source": [
        "\n",
        "\n",
        "plot(returns(nifty))\n",
        "plot(returns(itc))\n",
        "\n",
        "print(np.min(np.abs(diff_returns(itc))))\n",
        "plot(diff_returns(itc))\n"
      ],
      "execution_count": null,
      "outputs": [
        {
          "data": {
            "image/png": "[encoded data removed]",
            "text/plain": [
              "<Figure size 432x288 with 1 Axes>"
            ]
          },
          "metadata": {},
          "output_type": "display_data"
        },
        {
          "data": {
            "image/png": "[encoded data removed]",
            "text/plain": [
              "<Figure size 432x288 with 1 Axes>"
            ]
          },
          "metadata": {},
          "output_type": "display_data"
        },
        {
          "name": "stdout",
          "output_type": "stream",
          "text": [
            "0.0\n"
          ]
        },
        {
          "data": {
            "image/png": "[encoded data removed]",
            "text/plain": [
              "<Figure size 432x288 with 1 Axes>"
            ]
          },
          "metadata": {},
          "output_type": "display_data"
        }
      ]
    },
    {
      "cell_type": "code",
      "metadata": {
        "colab": {
          "base_uri": "https://localhost:8080/",
          "height": 554
        },
        "id": "JzxxXSTNH64T",
        "outputId": "c1e3e0a3-a03d-4a02-bee7-a357829592f5"
      },
      "source": [
        "\n",
        "\n",
        "Returns = np.concatenate([returns(nifty), returns(itc)], axis = 1)\n",
        "\n",
        "print(Returns.shape)\n",
        "\n",
        "cop = fitCopula(Returns, StudentCopula(2))\n",
        "\n",
        "print(cop.log_lik(Returns, to_pobs=True, ties='average'))\n",
        "\n",
        "u = cop.pobs(returns(nifty))\n",
        "v = cop.pobs(returns(itc))\n",
        "\n",
        "plt.scatter(u,v, s = 4)\n",
        "plt.show()\n",
        "# nifty_itc = pd.concat([itc,nifty],axis=1)\n",
        "# nifty_itc.columns = ['nifty','itc']\n",
        "\n",
        "\n",
        "\n",
        "# data = nifty_itc.values\n",
        "# cop = StudentCopula(2)\n",
        "# cop.fit(data,to_pobs=True,fix_df=False)\n",
        "\n",
        "\n",
        "\n",
        "# cop.summary()\n",
        "\n",
        "# cop.params"
      ],
      "execution_count": null,
      "outputs": [
        {
          "name": "stdout",
          "output_type": "stream",
          "text": [
            "(3649, 2)\n",
            "Warning: Possible convergence problem with copula fitting\n",
            "Student Copula Summary\n",
            "================================================================================\n",
            "Student Copula with 2 dimensions\n",
            "\n",
            "\n",
            "Parameters\n",
            "--------------------------------------------------------------------------------\n",
            " Degree of Freedom  : 4.944152642849531e-09\n",
            "\n",
            " Correlation Matrix \n",
            " 1.000000  0.677204\n",
            " 0.677204  1.000000\n",
            "\n",
            "StudentParams(df=4.944152642849531e-09, rho=array([0.67720449]))\n",
            "66597.13603984525\n"
          ]
        },
        {
          "data": {
            "image/png": "[encoded data removed]",
            "text/plain": [
              "<Figure size 432x288 with 1 Axes>"
            ]
          },
          "metadata": {},
          "output_type": "display_data"
        }
      ]
    },
    {
      "cell_type": "code",
      "metadata": {
        "colab": {
          "base_uri": "https://localhost:8080/",
          "height": 232
        },
        "id": "lYa2at2UiV3o",
        "outputId": "16a7b7e2-1323-4eb9-b3d1-70cf6311bc60"
      },
      "source": [
        "\n",
        "coint=ts.coint(returns(nifty), returns(itc))\n",
        "print(coint)\n",
        "\n",
        "x = returns(nifty)\n",
        "y = returns(itc)\n",
        "\n",
        "\n",
        "model = sm.OLS(x, y)\n",
        "model = model.fit()\n",
        "\n",
        "hedge_coeff = model.params[0]\n",
        "print(\"Hedge coeff: \" + str(hedge_coeff))\n",
        "\n",
        "spread = x[0:] - hedge_coeff * y[0:] #Hedge coeff nearly is 1\n",
        "\n",
        "plt.plot(spread[20:120])\n",
        "plt.figure(figsize=(8, 4))\n",
        "plt.show()\n",
        "\n",
        "adf = adfuller(spread, maxlag = 1)\n",
        "\n",
        "\n",
        "print(\"ADF Value: \" + str(adf[0]))\n",
        "\n",
        "print(\"Probabilities: \")\n",
        "print(adf[4])\n",
        "\n"
      ],
      "execution_count": null,
      "outputs": [
        {
          "output_type": "error",
          "ename": "NameError",
          "evalue": "ignored",
          "traceback": [
            "\u001b[0;31m---------------------------------------------------------------------------\u001b[0m",
            "\u001b[0;31mNameError\u001b[0m                                 Traceback (most recent call last)",
            "\u001b[0;32m<ipython-input-5-4fbed9be8c51>\u001b[0m in \u001b[0;36m<module>\u001b[0;34m()\u001b[0m\n\u001b[1;32m      1\u001b[0m \u001b[0;34m\u001b[0m\u001b[0m\n\u001b[0;32m----> 2\u001b[0;31m \u001b[0mcoint\u001b[0m\u001b[0;34m=\u001b[0m\u001b[0mts\u001b[0m\u001b[0;34m.\u001b[0m\u001b[0mcoint\u001b[0m\u001b[0;34m(\u001b[0m\u001b[0mreturns\u001b[0m\u001b[0;34m(\u001b[0m\u001b[0mnifty\u001b[0m\u001b[0;34m)\u001b[0m\u001b[0;34m,\u001b[0m \u001b[0mreturns\u001b[0m\u001b[0;34m(\u001b[0m\u001b[0mitc\u001b[0m\u001b[0;34m)\u001b[0m\u001b[0;34m)\u001b[0m\u001b[0;34m\u001b[0m\u001b[0;34m\u001b[0m\u001b[0m\n\u001b[0m\u001b[1;32m      3\u001b[0m \u001b[0mprint\u001b[0m\u001b[0;34m(\u001b[0m\u001b[0mcoint\u001b[0m\u001b[0;34m)\u001b[0m\u001b[0;34m\u001b[0m\u001b[0;34m\u001b[0m\u001b[0m\n\u001b[1;32m      4\u001b[0m \u001b[0;34m\u001b[0m\u001b[0m\n\u001b[1;32m      5\u001b[0m \u001b[0mx\u001b[0m \u001b[0;34m=\u001b[0m \u001b[0mreturns\u001b[0m\u001b[0;34m(\u001b[0m\u001b[0mnifty\u001b[0m\u001b[0;34m)\u001b[0m\u001b[0;34m\u001b[0m\u001b[0;34m\u001b[0m\u001b[0m\n",
            "\u001b[0;31mNameError\u001b[0m: name 'nifty' is not defined"
          ]
        }
      ]
    },
    {
      "cell_type": "code",
      "metadata": {
        "colab": {
          "base_uri": "https://localhost:8080/",
          "height": 625
        },
        "id": "iahqzCfvimu9",
        "outputId": "fcbbab0b-f508-4bbd-ef81-0ccf1b6819e4"
      },
      "source": [
        "\n",
        "n_samples = 249\n",
        "\n",
        "df = 3\n",
        "rho = 0.372184\n",
        "calib_correl_matrix = np.array([[1,rho,],[rho,1]])\n",
        "mu = np.zeros(len(calib_correl_matrix))\n",
        "s = chi2.rvs(df)\n",
        "#s = invgamma.pdf(df/2,df/2) \n",
        "Z = np.random.multivariate_normal(mu, calib_correl_matrix,n_samples)\n",
        "X = np.sqrt(df/s)*Z #chi-square method\n",
        "#X = np.sqrt(s)*Z #inverse gamma method\n",
        "U = t.cdf(X,df)\n",
        "\n",
        "U_pd = pd.DataFrame(U)\n",
        "fig = plt.gcf()\n",
        "fig.set_size_inches(14.5, 10.5)\n",
        "pd.plotting.scatter_matrix(U_pd, figsize=(14,10), diagonal = 'kde')\n",
        "plt.show()"
      ],
      "execution_count": null,
      "outputs": [
        {
          "data": {
            "text/plain": [
              "<Figure size 1044x756 with 0 Axes>"
            ]
          },
          "metadata": {},
          "output_type": "display_data"
        },
        {
          "data": {
            "image/png": "[encoded data removed]",
            "text/plain": [
              "<Figure size 1008x720 with 4 Axes>"
            ]
          },
          "metadata": {},
          "output_type": "display_data"
        }
      ]
    },
    {
      "cell_type": "code",
      "metadata": {
        "colab": {
          "base_uri": "https://localhost:8080/",
          "height": 1000
        },
        "id": "yp49rnu2qEey",
        "outputId": "8cb8e123-dab0-4941-dbf8-a7f3e23d7699"
      },
      "source": [
        "###. Expirmenting on t copula to check how good is it converging\n",
        "\n",
        "mu = [1,2.2]\n",
        "S = [[4, 0.54], [0.54, 1]]\n",
        "df = 1\n",
        "n = 1000\n",
        "data = multivariate_t_rvs(mu, S, df, n)\n",
        "\n",
        "cop = copulasFitGaussianMulti(data)      ### to find the scale and mean\n",
        "locX = cop.to_dict().get('univariates')[0].get('loc')\n",
        "scaleX = cop.to_dict().get('univariates')[0].get('scale')\n",
        "\n",
        "locY = cop.to_dict().get('univariates')[1].get('loc')\n",
        "scaleY = cop.to_dict().get('univariates')[1].get('scale')\n",
        "\n",
        "data[:, 0] = normalize(data[:, 0], scaleX, locX)\n",
        "data[:, 1] = normalize(data[:, 1], scaleY, locY)\n",
        "cop = copulasFitGaussianMulti(data)\n",
        "\n",
        "# print(cop.check_fit())\n",
        "# copulasFitVineCopulaCenter(data)\n",
        "# copulasFitVineCopulaRegular(data)\n",
        "# copulasFitVineCopulaDirect(data)\n",
        "\n",
        "# pobs = StudentCopula(2, 0).pobs(data, ties = 'average')\n",
        "# print(pobs.shape)\n",
        "# plt.scatter(pobs[:, 0], pobs[:, 1])\n",
        "# plt.show()\n",
        "# cop.fit(data,to_pobs=True,fix_df=False)\n",
        "# print(cop.summary())\n",
        "# print(cop.params)\n",
        "\n",
        "\n"
      ],
      "execution_count": null,
      "outputs": [
        {
          "name": "stdout",
          "output_type": "stream",
          "text": [
            "covariance [[1.0, 0.33853750084679607], [0.33853750084679607, 1.0]] \n",
            "\n",
            "univariates [{'df': 0.9497633493057424, 'loc': 0.893224576125449, 'scale': 2.002511930117329, 'type': 'copulas.univariate.student_t.StudentTUnivariate'}, {'df': 0.9374037468232989, 'loc': 2.213479710661672, 'scale': 1.025726870275256, 'type': 'copulas.univariate.student_t.StudentTUnivariate'}] \n",
            "\n",
            "columns [0, 1] \n",
            "\n",
            "type copulas.multivariate.gaussian.GaussianMultivariate \n",
            "\n"
          ]
        },
        {
          "data": {
            "image/png": "[encoded data removed]",
            "text/plain": [
              "<Figure size 432x288 with 1 Axes>"
            ]
          },
          "metadata": {},
          "output_type": "display_data"
        },
        {
          "data": {
            "image/png": "[encoded data removed]",
            "text/plain": [
              "<Figure size 432x288 with 1 Axes>"
            ]
          },
          "metadata": {},
          "output_type": "display_data"
        },
        {
          "name": "stdout",
          "output_type": "stream",
          "text": [
            "covariance [[1.0, 0.3385326760165253], [0.3385326760165253, 1.0]] \n",
            "\n",
            "univariates [{'df': 0.9497547456683553, 'loc': 0.00024709147131731965, 'scale': 0.9999431552772455, 'type': 'copulas.univariate.student_t.StudentTUnivariate'}, {'df': 0.9374118963282845, 'loc': 0.00023429593312003307, 'scale': 0.9999378402782044, 'type': 'copulas.univariate.student_t.StudentTUnivariate'}] \n",
            "\n",
            "columns [0, 1] \n",
            "\n",
            "type copulas.multivariate.gaussian.GaussianMultivariate \n",
            "\n"
          ]
        },
        {
          "data": {
            "image/png": "[encoded data removed]",
            "text/plain": [
              "<Figure size 432x288 with 1 Axes>"
            ]
          },
          "metadata": {},
          "output_type": "display_data"
        },
        {
          "data": {
            "image/png": "[encoded data removed]",
            "text/plain": [
              "<Figure size 432x288 with 1 Axes>"
            ]
          },
          "metadata": {},
          "output_type": "display_data"
        }
      ]
    },
    {
      "cell_type": "code",
      "metadata": {
        "id": "7ZmY9wEKEEVS"
      },
      "source": [
        "\n",
        "class Clayton():\n",
        "  def __init__(self, x, y):\n",
        "    self.xTrain = x\n",
        "    self.yTrain = y\n",
        "    self.tau = kendalltau(x, y)[0]\n",
        "    self.ecdf_x, self.ecdf_y  = ECDF(np.reshape(self.xTrain, len(self.xTrain))), ECDF(np.reshape(self.yTrain, len(self.yTrain)))\n",
        "    self.u, self.v = [self.ecdf_x(a) for a in x], [self.ecdf_y(a) for a in y]\n",
        "    self.theta = 2 * self.tau / (1 - self.tau)\n",
        "\n",
        "  def conditionalCDF(self, xtest, ytest):\n",
        "    u = np.array([self.ecdf_x(a) for a in xtest])\n",
        "    v = np.array([self.ecdf_y(a) for a in ytest])\n",
        "    MI_u_v = v ** (-self.theta - 1) * (u ** (-self.theta) + v ** (-self.theta) - 1) ** (-1 / self.theta - 1) # P(U<u|V=v)\n",
        "    MI_v_u = u ** (-self.theta - 1) * (u ** (-self.theta) + v ** (-self.theta) - 1) ** (-1 / self.theta - 1) # P(V<v|U=u)\n",
        "    return MI_u_v, MI_v_u\n",
        "  \n",
        "  def negative_log_lik(self, x, y):\n",
        "    u = [self.ecdf_x(a) for a in x]\n",
        "    v = [self.ecdf_y(a) for a in y]\n",
        "    pdf = (self.theta + 1) * ((u ** (-self.theta) + v ** (-self.theta) - 1) ** (-2 - 1 / self.theta)) * (u ** (-self.theta - 1) * v ** (-self.theta - 1))\n",
        "    return -np.log(pdf)\n",
        "  \n",
        "  def AIC(self):\n",
        "    negative_log_likelihood = sum(np.nan_to_num(self.negative_log_lik(self.xTrain, self.yTrain)))\n",
        "    return 2 * negative_log_likelihood + 2\n",
        "\n",
        "class Student_t():\n",
        "  def __init__(self, x, y, **kwargs):\n",
        "    self.scale = 1\n",
        "    for key, value in kwargs.items():\n",
        "      if(key == 'scale' and value == 1):\n",
        "        self.scale =1\n",
        "      else:\n",
        "        self.scale = 0\n",
        "    ###initialize default scale parameteres as 1.\n",
        "    self.scaleX = 1.0\n",
        "    self.scaleY = 1.0\n",
        "    self.locX = 0.0\n",
        "    self.locY = 0.0\n",
        "\n",
        "    self.xTrain = x\n",
        "    self.yTrain = y\n",
        "    self.data = np.concatenate((self.xTrain, self.yTrain), axis = 1)\n",
        "    self.cop = copulasFitGaussianMulti(self.data) \n",
        "    self.df = max(self.cop.to_dict().get('univariates')[0].get('df'), self.cop.to_dict().get('univariates')[1].get('df'))\n",
        "    self.df = np.ceil(self.df)\n",
        "    if (self.scale == 1):\n",
        "           ### to find the scale and mean\n",
        "    \n",
        "      self.locX = self.cop.to_dict().get('univariates')[0].get('loc')\n",
        "      self.scaleX = self.cop.to_dict().get('univariates')[0].get('scale')\n",
        "\n",
        "      self.locY = self.cop.to_dict().get('univariates')[1].get('loc')\n",
        "      self.scaleY = self.cop.to_dict().get('univariates')[1].get('scale')\n",
        "      self.xTrain = normalize(self.xTrain, self.scaleX, self.locX)\n",
        "      self.yTrain = normalize(self.yTrain, self.scaleY, self.locY)\n",
        "      self.data = np.concatenate((self.xTrain, self.yTrain), axis = 1)\n",
        "      self.cop = copulasFitGaussianMulti(self.data)\n",
        "    \n",
        "    self.rho = self.cop.to_dict().get('covariance')[0][1]\n",
        "    self.ecdf_x = ECDF(np.reshape(self.xTrain, len(self.xTrain)))\n",
        "    self.ecdf_y = ECDF(np.reshape(self.yTrain, len(self.yTrain)))\n",
        "    self.u = np.array([self.ecdf_x(a) for a in self.xTrain])\n",
        "    self.v = np.array([self.ecdf_y(a) for a in self.yTrain])\n",
        "    \n",
        "    \n",
        "  def conditionalCDF(self, xtest, ytest):\n",
        "    ## scale the data before converting into quantiles\n",
        "    xtest_normalized = normalize(xtest, self.scaleX, self.locX)\n",
        "    ytest_normalized = normalize(ytest, self.scaleY, self.locY)\n",
        "    u = np.array([self.ecdf_x(a) for a in xtest_normalized])\n",
        "    v = np.array([self.ecdf_y(a) for a in ytest_normalized])\n",
        "    u_x = t.ppf(u, self.df)\n",
        "    v_y = t.ppf(v, self.df)\n",
        "    variable = ((u_x - self.rho * v_y)*np.sqrt((self.df + 1)/(self.df + v_y * v_y)))/np.sqrt(1 - self.rho * self.rho)\n",
        "    MI_u_v = t.cdf(variable, self.df + 1)\n",
        "    variable = ((v_y - self.rho * u_x)*np.sqrt((self.df + 1)/(self.df + u_x * u_x)))/np.sqrt(1 - self.rho * self.rho)\n",
        "    MI_v_u = t.cdf(variable, self.df + 1)\n",
        "    return MI_u_v, MI_v_u\n",
        "\n",
        "  def negative_log_lik(self, x, y):\n",
        "    x_normalized = normalize(x, self.scaleX, self.locX)\n",
        "    y_normalized = normalize(y, self.scaleY, self.locY)\n",
        "    pdf = (math.gamma((self.df+2)/2)/(math.gamma(self.df/2)*pi_global*self.df*np.sqrt(1 - self.rho * self.rho)))*((1 + (x_normalized**2 + y_normalized**2 - 2*self.rho*x_normalized*y_normalized)/(self.df*(1 - self.rho**2)))**(-(self.df + 2)/2))\n",
        "    return -np.log(pdf)\n",
        "  def AIC(self):\n",
        "    negative_log_likelihood = sum(np.nan_to_num(self.negative_log_lik(inv_normalize(self.xTrain, self.scaleX, self.locX), inv_normalize(self.yTrain, self.scaleY, self.locY))))\n",
        "    return 2 * negative_log_likelihood + 2*2\n",
        "\n"
      ],
      "execution_count": null,
      "outputs": []
    },
    {
      "cell_type": "code",
      "metadata": {
        "id": "OEVO1mcyAnlN"
      },
      "source": [
        "### code to iterate over confidence intervals to find best c.i.\n",
        "### mean reversion spread = x[0:] - hedge_coeff * y[0:] where x and y are logged returns\n",
        "### so that means for every unit of money utilised on stock x we spend hedge_coeff amount of money on stock y\n",
        "### hedge_coeff is beta in our code\n",
        "class Optimize():\n",
        "  def __init__(self, xtrain, ytrain, xtest, ytest, hold_limit, beta, **kwargs):\n",
        "    for key, value in kwargs.items():\n",
        "      if (key == 'trading_cost'):\n",
        "        trading_cost = value\n",
        "      if (key == 'slippage_open_x'):\n",
        "        slippage_open_x = value\n",
        "      if (key == 'slippage_exit_x'):\n",
        "        slippage_exit_x = value\n",
        "      if (key == 'slippage_open_y'):\n",
        "        slippage_open_y = value\n",
        "      if (key == 'slippage_exit_y'):\n",
        "        slippage_exit_y = value\n",
        "\n",
        "      if (key == 'model'):\n",
        "        if (value == 'Student_t'):\n",
        "          self.model = Student_t(xtrain, ytrain, scale = 1)\n",
        "        if (value == 'Clayton'):\n",
        "          self.model = Clayton(xtrain, ytrain)\n",
        "    \n",
        "    ### create trade series for long of xtrain\n",
        "    self.trade_long_xtrain = np.zeros((100, 100, len(xtrain)))\n",
        "    tmp1 = float('-inf')\n",
        "    tmp2 = float('-inf')\n",
        "    for i in range(40, 60, 5):\n",
        "      for j in range(500, 520, 5):\n",
        "        ci_open = (float(i)/1000.0)\n",
        "        ci_exit = (float(j)/1000.0)\n",
        "        self.trade_long_xtrain[int((ci_open - 0)/0.005), int((ci_exit - 0.5)/0.005), :], stats = tradeLong(ci_open, ci_exit, xtrain, ytrain, hold_limit, self.model, 0, 1.0, slippage_open = slippage_open_x, slippage_exit = slippage_exit_x, trading_cost = trading_cost)\n",
        "        if (stats['net_returns'] > tmp1):\n",
        "          self.metrics_long_xtrain_returns = stats\n",
        "          tmp1 = stats['net_returns']  \n",
        "\n",
        "        if (stats['net_total_profit'] > tmp2):\n",
        "          self.metrics_long_xtrain_profit = stats\n",
        "          tmp2 = stats['net_total_profit']  \n",
        "\n",
        "        # if(i % 10 == 0 or j % 10 == 0):\n",
        "        #   print((i,j))\n",
        "        #   print(stats)\n",
        "\n",
        "\n",
        "    ### create trade series for long of ytrain\n",
        "    self.trade_long_ytrain = np.zeros((100, 100, len(ytrain)))\n",
        "    tmp1 = float('-inf')\n",
        "    tmp2 = float('-inf')\n",
        "    for i in range(40, 60, 5):\n",
        "      for j in range(500, 520, 5):\n",
        "        ci_open = (float(i)/1000.0)\n",
        "        ci_exit = (float(j)/1000.0)\n",
        "        self.trade_long_ytrain[int((ci_open - 0)/0.005), int((ci_exit - 0.5)/0.005), :], stats = tradeLong(ci_open, ci_exit, xtrain, ytrain, hold_limit, self.model, 1, beta, slippage_open = slippage_open_y, slippage_exit = slippage_exit_y, trading_cost = trading_cost)\n",
        "        if (stats['net_returns'] > tmp1):\n",
        "          self.metrics_long_ytrain_returns = stats\n",
        "          tmp1 = stats['net_returns']  \n",
        "\n",
        "        if (stats['net_total_profit'] > tmp2):\n",
        "          self.metrics_long_ytrain_profit = stats\n",
        "          tmp2 = stats['net_total_profit']\n",
        "\n",
        "    ### create trade series for long of xtest\n",
        "    # self.trade_long_xtest = np.zeros((100, 100, len(xtest)))\n",
        "    # tmp1 = float('-inf')\n",
        "    # tmp2 = float('-inf')\n",
        "    # for i in range(20, 60, 5):\n",
        "    #   for j in range(500, 700, 5):\n",
        "    #     ci_open = (float(i)/1000.0)\n",
        "    #     ci_exit = (float(j)/1000.0)\n",
        "    #     self.trade_long_xtest[int((ci_open - 0)/0.005), int((ci_exit - 0.5)/0.005), :], stats = tradeLong(ci_open, ci_exit, xtest, ytest, hold_limit, self.model, 0, 1.0, slippage_open = slippage_open_x, slippage_exit = slippage_exit_x, trading_cost = trading_cost)\n",
        "    #     if (stats['net_returns'] > tmp1):\n",
        "    #       self.metrics_long_xtest_returns = stats\n",
        "    #       tmp1 = stats['net_returns']  \n",
        "\n",
        "    #     if (stats['net_total_profit'] > tmp2):\n",
        "    #       self.metrics_long_xtest_profit = stats\n",
        "    #       tmp2 = stats['net_total_profit']\n",
        "    self.trade_long_xtest, self.metrics_long_xtest_profit = tradeLong(self.metrics_long_xtrain_profit['ci_open'], self.metrics_long_xtrain_profit['ci_exit'], xtest, ytest, hold_limit, self.model, 0, 1.0, slippage_open = slippage_open_x, slippage_exit = slippage_exit_x, trading_cost = trading_cost)\n",
        "\n",
        "    ### create trade series for long of ytest\n",
        "    # self.trade_long_ytest = np.zeros((100, 100, len(ytest)))\n",
        "    # tmp1 = float('-inf')\n",
        "    # tmp2 = float('-inf')\n",
        "    # for i in range(40, 60, 5):\n",
        "    #   for j in range(500, 520, 5):\n",
        "    #     ci_open = (float(i)/1000.0)\n",
        "    #     ci_exit = (float(j)/1000.0)\n",
        "    #     self.trade_long_ytest[int((ci_open - 0)/0.005), int((ci_exit - 0.5)/0.005), :], stats = tradeLong(ci_open, ci_exit, xtest, ytest, hold_limit, self.model, 1, beta, slippage_open = slippage_open_y, slippage_exit = slippage_exit_y, trading_cost = trading_cost)\n",
        "    #     if (stats['net_returns'] > tmp1):\n",
        "    #       self.metrics_long_ytest_returns = stats\n",
        "    #       tmp1 = stats['net_returns']  \n",
        "\n",
        "    #     if (stats['net_total_profit'] > tmp2):\n",
        "    #       self.metrics_long_ytest_profit = stats\n",
        "    #       tmp2 = stats['net_total_profit']\n",
        "    self.trade_long_ytest, self.metrics_long_ytest_profit = tradeLong(self.metrics_long_ytrain_profit['ci_open'], self.metrics_long_ytrain_profit['ci_exit'], xtest, ytest, hold_limit, self.model, 1, beta, slippage_open = slippage_open_y, slippage_exit = slippage_exit_y, trading_cost = trading_cost)\n",
        "\n",
        "\n",
        "\n",
        "\n",
        "    ###similarly for short\n",
        "    ### create trade series for short of xtrain\n",
        "    self.trade_short_xtrain = np.zeros((100, 100, len(xtrain)))\n",
        "    tmp1 = float('-inf')\n",
        "    tmp2 = float('-inf')\n",
        "    for i in range(940, 980, 5):\n",
        "      for j in range(480, 500, 5):\n",
        "        ci_open = (float(i)/1000.0)\n",
        "        ci_exit = (float(j)/1000.0)\n",
        "        self.trade_short_xtrain[int((ci_open - 0.5)/0.005), int((ci_exit - 0.0)/0.005), :], stats = tradeShort(ci_open, ci_exit, xtrain, ytrain, hold_limit, self.model, 0, 1.0, slippage_open = slippage_open_x, slippage_exit = slippage_exit_x, trading_cost = trading_cost)\n",
        "        if (stats['net_returns'] > tmp1):\n",
        "          self.metrics_short_xtrain_returns = stats\n",
        "          tmp1 = stats['net_returns']  \n",
        "\n",
        "        if (stats['net_total_profit'] > tmp2):\n",
        "          self.metrics_short_xtrain_profit = stats\n",
        "          tmp2 = stats['net_total_profit']\n",
        "\n",
        "    ### create trade series for short of ytrain\n",
        "    self.trade_short_ytrain = np.zeros((100, 100, len(ytrain)))\n",
        "    tmp1 = float('-inf')\n",
        "    tmp2 = float('-inf')\n",
        "    for i in range(940, 980, 5):\n",
        "      for j in range(480, 500, 5):\n",
        "        ci_open = (float(i)/1000.0)\n",
        "        ci_exit = (float(j)/1000.0)\n",
        "        self.trade_short_ytrain[int((ci_open - 0.5)/0.005), int((ci_exit - 0.0)/0.005), :], stats = tradeShort(ci_open, ci_exit, xtrain, ytrain, hold_limit, self.model, 1, beta, slippage_open = slippage_open_y, slippage_exit = slippage_exit_y, trading_cost = trading_cost)\n",
        "        if (stats['net_returns'] > tmp1):\n",
        "          self.metrics_short_ytrain_returns = stats\n",
        "          tmp1 = stats['net_returns']  \n",
        "\n",
        "        if (stats['net_total_profit'] > tmp2):\n",
        "          self.metrics_short_ytrain_profit = stats\n",
        "          tmp2 = stats['net_total_profit']\n",
        "\n",
        "    ### create trade series for short of xtest\n",
        "    # self.trade_short_xtest = np.zeros((100, 100, len(xtest)))\n",
        "    # tmp1 = float('-inf')\n",
        "    # tmp2 = float('-inf')\n",
        "    # for i in range(940, 980, 5):\n",
        "    #   for j in range(300, 500, 5):\n",
        "    #     ci_open = (float(i)/1000.0)\n",
        "    #     ci_exit = (float(j)/1000.0)\n",
        "    #     self.trade_short_xtest[int((ci_open - 0.5)/0.005), int((ci_exit - 0.0)/0.005), :], stats = tradeShort(ci_open, ci_exit, xtest, ytest, hold_limit, self.model, 0, 1.0, slippage_open = slippage_open_x, slippage_exit = slippage_exit_x, trading_cost = trading_cost)\n",
        "    #     if (stats['net_returns'] > tmp1):\n",
        "    #       self.metrics_short_xtest_returns = stats\n",
        "    #       tmp1 = stats['net_returns']  \n",
        "\n",
        "    #     if (stats['net_total_profit'] > tmp2):\n",
        "    #       self.metrics_short_xtest_profit = stats\n",
        "    #       tmp2 = stats['net_total_profit']\n",
        "    self.trade_short_xtest, self.metrics_short_xtest_profit = tradeShort(self.metrics_short_xtrain_profit['ci_open'], self.metrics_short_xtrain_profit['ci_exit'], xtest, ytest, hold_limit, self.model, 0, 1.0, slippage_open = slippage_open_x, slippage_exit = slippage_exit_x, trading_cost = trading_cost)\n",
        "\n",
        "\n",
        "    ### create trade series for short of ytest\n",
        "    # self.trade_short_ytest = np.zeros((100, 100, len(ytest)))\n",
        "    # tmp1 = float('-inf')\n",
        "    # tmp2 = float('-inf')\n",
        "    # for i in range(940, 980, 5):\n",
        "    #   for j in range(480, 500, 5):\n",
        "    #     ci_open = (float(i)/1000.0)\n",
        "    #     ci_exit = (float(j)/1000.0)\n",
        "    #     self.trade_short_ytest[int((ci_open - 0.5)/0.005), int((ci_exit - 0.0)/0.005), :], stats = tradeShort(ci_open, ci_exit, xtest, ytest, hold_limit, self.model, 1, beta, slippage_open = slippage_open_y, slippage_exit = slippage_exit_y, trading_cost = trading_cost)\n",
        "    #     if (stats['net_returns'] > tmp1):\n",
        "    #       self.metrics_short_ytest_returns = stats\n",
        "    #       tmp1 = stats['net_returns']  \n",
        "\n",
        "    #     if (stats['net_total_profit'] > tmp2):\n",
        "    #       self.metrics_short_ytest_profit = stats\n",
        "    #       tmp2 = stats['net_total_profit']\n",
        "    self.trade_short_ytest, self.metrics_short_ytest_profit = tradeShort(self.metrics_short_ytrain_profit['ci_open'], self.metrics_short_ytrain_profit['ci_exit'], xtest, ytest, hold_limit, self.model, 1, beta, slippage_open = slippage_open_y, slippage_exit = slippage_exit_y, trading_cost = trading_cost)\n",
        "\n",
        "  \n",
        "\n",
        "  \n",
        "def tradeLong(ci_open, ci_exit, x, y, hold_limit, model, index, dollar_unit, **kwargs):\n",
        "  slippage_open = 0.0\n",
        "  slippage_exit = 0.0\n",
        "  trading_cost = 0.0\n",
        "  for key, value in kwargs.items():\n",
        "    if (key == 'slippage_open'):\n",
        "      slippage_open = value\n",
        "    if (key == 'slippage_exit'):\n",
        "      slippage_exit = value\n",
        "    if (key == 'trading_cost'):\n",
        "      trading_cost = value\n",
        "  \n",
        "  MI_u_v, MI_v_u = model.conditionalCDF(x, y)\n",
        "  length = len(MI_u_v)\n",
        "  ### 0 for do nothing, 1 for open_positon/trade, 2 for exit, 3 for force exit, 4 for open_position and force_exit\n",
        "  trade_signal = np.zeros((length), dtype = np.int)\n",
        "  ### return trade series \n",
        "  ### first fix stock based on index\n",
        "  if (index == 0):\n",
        "    MI = MI_u_v\n",
        "    returns = x\n",
        "  if (index == 1):\n",
        "    MI = MI_v_u\n",
        "    returns = y\n",
        "  n_open_positions = 0\n",
        "  n_trades = 0\n",
        "  n_force_exited = 0\n",
        "  avg_returns = 0.0\n",
        "  avg_returns_force_exited = 0.0\n",
        "  total_profit = 0.0\n",
        "  total_profit_force_exited = 0.0\n",
        "  cumulative_return = np.zeros((len(returns)), dtype = np.float)  \n",
        "  for i in range(length):\n",
        "    if(i == 0):\n",
        "      cumulative_return[i] = returns[0]\n",
        "    else:\n",
        "      cumulative_return[i] = cumulative_return[i - 1] + returns[i]\n",
        "\n",
        "    force_exit = 0\n",
        "    if (MI[i] < ci_open):\n",
        "      trade_signal[i] = 1\n",
        "      n_open_positions +=1 \n",
        "    if (MI[i] > ci_exit and n_open_positions > 0):\n",
        "      trade_signal[i] = 2\n",
        "      n_trades += n_open_positions \n",
        "      for j in range(i - 1, i - hold_limit - 1, -1):\n",
        "        if (trade_signal[j] == 2):\n",
        "          break\n",
        "        if (trade_signal[j] == 1 or trade_signal[j] == 4):\n",
        "          n_open_positions -= 1\n",
        "          avg_returns += (dollar_unit * (cumulative_return[i] - cumulative_return[j] + np.log((1 - abs(slippage_exit))/(1 + abs(slippage_open)))))\n",
        "          total_profit += (dollar_unit * ((math.exp(cumulative_return[i] - cumulative_return[j])) * ((1 - abs(slippage_exit))/(1 + abs(slippage_open))) - 1.0))\n",
        "      if (n_open_positions != 0):\n",
        "        raise ValueError('no of open positions does not equal 0')\n",
        "      continue\n",
        "    if (i - hold_limit >= 0 and (trade_signal[i - hold_limit] == 1 or trade_signal[i - hold_limit] == 4)):\n",
        "      force_exit = 1\n",
        "      for j in range(i-hold_limit, i):\n",
        "        if(trade_signal[j] == 2):\n",
        "          force_exit = 0\n",
        "          break\n",
        "    if (force_exit == 1):\n",
        "      n_open_positions -= 1\n",
        "      n_force_exited += 1 \n",
        "      avg_returns_force_exited += (cumulative_return[i] - cumulative_return[i - hold_limit] + np.log((1 - abs(slippage_exit))/(1 + abs(slippage_open))))\n",
        "      total_profit_force_exited += (dollar_unit * ((math.exp(cumulative_return[i] - cumulative_return[i - hold_limit])) * ((1 - abs(slippage_exit))/(1 + abs(slippage_open))) - 1.0))\n",
        "      if (trade_signal[i] == 1):\n",
        "        trade_signal[i] = 4\n",
        "      else:\n",
        "        trade_signal[i] = 3\n",
        "  \n",
        "  avg_returns_lambda = lambda x, y : x/y if (y > 0) else 0.0\n",
        "  \n",
        "  stats = {}\n",
        "  stats['n_trades'] = n_trades\n",
        "  stats['n_force_exited'] = n_force_exited\n",
        "  stats['avg_returns'] = avg_returns_lambda(avg_returns, n_trades)\n",
        "  stats['avg_returns_force_exited'] = avg_returns_lambda(avg_returns_force_exited, n_force_exited)\n",
        "  stats['total_profit'] = total_profit\n",
        "  stats['total_profit_force_exited'] = total_profit_force_exited\n",
        "  stats['net_returns'] = avg_returns_lambda(avg_returns + avg_returns_force_exited, n_trades + n_force_exited)\n",
        "  stats['net_total_profit'] = total_profit + total_profit_force_exited - trading_cost * (n_trades + n_force_exited)\n",
        "  stats['ci_open'] = ci_open\n",
        "  stats['ci_exit'] = ci_exit\n",
        "  return trade_signal, stats  \n",
        "\n",
        "def tradeShort(ci_open, ci_exit, x, y, hold_limit, model, index, dollar_unit, **kwargs):\n",
        "  slippage_open = 0.0\n",
        "  slippage_exit = 0.0\n",
        "  trading_cost = 0.0\n",
        "  for key, value in kwargs.items():\n",
        "    if (key == 'slippage_open'):\n",
        "      slippage_open = value\n",
        "    if (key == 'slippage_exit'):\n",
        "      slippage_exit = value\n",
        "    if (key == 'trading_cost'):\n",
        "      trading_cost = value\n",
        "\n",
        "  MI_u_v, MI_v_u = model.conditionalCDF(x, y)\n",
        "  length = len(MI_u_v)\n",
        "  ### 0 for do nothing, 1 for open_positon/trade, 2 for exit, 3 for force exit, 4 for open_position and force_exit\n",
        "  trade_signal = np.zeros((length), dtype = np.int)\n",
        "  ### return trade series \n",
        "  ### first fix stock based on index\n",
        "  if (index == 0):\n",
        "    MI = MI_u_v\n",
        "    returns = x\n",
        "  if (index == 1):\n",
        "    MI = MI_v_u\n",
        "    returns = y\n",
        "  n_open_positions = 0\n",
        "  n_trades = 0\n",
        "  n_force_exited = 0\n",
        "  avg_returns = 0.0\n",
        "  avg_returns_force_exited = 0.0\n",
        "  total_profit = 0.0\n",
        "  total_profit_force_exited = 0.0\n",
        "  cumulative_return = np.zeros((len(returns)), dtype = np.float)  \n",
        "  \n",
        "  for i in range(length):\n",
        "    if(i == 0):\n",
        "      cumulative_return[i] = returns[0]\n",
        "    else:\n",
        "      cumulative_return[i] = cumulative_return[i - 1] + returns[i]\n",
        "\n",
        "    force_exit = 0\n",
        "    if (MI[i] > ci_open):\n",
        "      trade_signal[i] = 1\n",
        "      n_open_positions +=1 \n",
        "    if (MI[i] < ci_exit and n_open_positions > 0):\n",
        "      trade_signal[i] = 2\n",
        "      n_trades += n_open_positions \n",
        "      for j in range(i - 1, i - hold_limit - 1, -1):\n",
        "        if (trade_signal[j] == 2):\n",
        "          break\n",
        "        if (trade_signal[j] == 1 or trade_signal[j] == 4):\n",
        "          n_open_positions -= 1\n",
        "          avg_returns += (dollar_unit * (cumulative_return[i] - cumulative_return[j] + np.log((1 + abs(slippage_exit))/(1 - abs(slippage_open)))))\n",
        "          total_profit += (dollar_unit * ((math.exp(cumulative_return[i] - cumulative_return[j])) * ((1 + abs(slippage_exit))/(1 - abs(slippage_open))) - 1.0))\n",
        "      if (n_open_positions != 0):\n",
        "        raise ValueError('no of open positions does not equal 0')\n",
        "      continue\n",
        "    if (i - hold_limit >= 0 and (trade_signal[i - hold_limit] == 1 or trade_signal[i - hold_limit] == 4)):\n",
        "      force_exit = 1\n",
        "      for j in range(i-hold_limit, i):\n",
        "        if(trade_signal[j] == 2):\n",
        "          force_exit = 0\n",
        "          break\n",
        "    if (force_exit == 1):\n",
        "      n_open_positions -= 1\n",
        "      n_force_exited += 1 \n",
        "      avg_returns_force_exited += (cumulative_return[i] - cumulative_return[i - hold_limit] + np.log((1 + abs(slippage_exit))/(1 - abs(slippage_open))))\n",
        "      total_profit_force_exited += (dollar_unit * ((math.exp(cumulative_return[i] - cumulative_return[i - hold_limit])) * ((1 + abs(slippage_exit))/(1 - abs(slippage_open))) - 1.0))\n",
        "      if (trade_signal[i] == 1):\n",
        "        trade_signal[i] = 4\n",
        "      else:\n",
        "        trade_signal[i] = 3\n",
        "  \n",
        "  avg_returns_lambda = lambda x, y : x/y if (y > 0) else 0.0\n",
        "\n",
        "  stats = {}\n",
        "  stats['n_trades'] = n_trades\n",
        "  stats['n_force_exited'] = n_force_exited\n",
        "  stats['avg_returns'] = -avg_returns_lambda(avg_returns, n_trades)\n",
        "  stats['avg_returns_force_exited'] = -avg_returns_lambda(avg_returns_force_exited, n_force_exited)\n",
        "  stats['total_profit'] = -total_profit\n",
        "  stats['total_profit_force_exited'] = -total_profit_force_exited\n",
        "  stats['net_returns'] = -avg_returns_lambda(avg_returns + avg_returns_force_exited, n_trades + n_force_exited)\n",
        "  stats['net_total_profit'] = -(total_profit + total_profit_force_exited) - trading_cost * (n_trades + n_force_exited)\n",
        "  stats['ci_open'] = ci_open\n",
        "  stats['ci_exit'] = ci_exit\n",
        "  return trade_signal, stats\n",
        "  "
      ],
      "execution_count": null,
      "outputs": []
    },
    {
      "cell_type": "code",
      "metadata": {
        "id": "RjNrIBABRuY8"
      },
      "source": [
        "def trade_Traditional_Copula(ci_upper, ci_lower, x, y, model, dollar_unit, **kwargs):\n",
        "  slippage_open_x = 0.0\n",
        "  slippage_exit_x = 0.0\n",
        "  slippage_open_y = 0.0\n",
        "  slippage_exit_y = 0.0\n",
        "  trading_cost = 0.0\n",
        "  for key, value in kwargs.items():\n",
        "      if (key == 'trading_cost'):\n",
        "        trading_cost = value\n",
        "      if (key == 'slippage_open_x'):\n",
        "        slippage_open_x = value\n",
        "      if (key == 'slippage_exit_x'):\n",
        "        slippage_exit_x = value\n",
        "      if (key == 'slippage_open_y'):\n",
        "        slippage_open_y = value\n",
        "      if (key == 'slippage_exit_y'):\n",
        "        slippage_exit_y = value\n",
        "  \n",
        "  MI_u_v, MI_v_u = model.conditionalCDF(x, y)\n",
        "  length = len(MI_u_v)\n",
        "  ## 0 for do nothing\n",
        "  ## 1 for MI_u_v >= ci_upper and  MI_v_u <= ci_lower\n",
        "  ## 2 for MI_u_v <= ci_lower and  MI_v_u >= ci_upper\n",
        "  ## 3 for exiting 1\n",
        "  ## 4 for exiting 2\n",
        "  trade_signal = np.zeros((length), dtype = np.int)\n",
        "  ### return trade series \n",
        "  n_open_positions_1 = 0\n",
        "  n_open_positions_2 = 0\n",
        "  n_trades = 0\n",
        "  avg_returns = 0.0\n",
        "  total_profit = 0.0\n",
        "  hold_limit_total = 0\n",
        "  hold_limit_min = np.float('inf')\n",
        "  hold_limit_max = np.float('-inf')\n",
        "  cumulative_return_x = np.zeros((len(x)), dtype = np.float)  \n",
        "  cumulative_return_y = np.zeros((len(y)), dtype = np.float)  \n",
        "  for i in range(length):\n",
        "    if (i == 0):\n",
        "      cumulative_return_x[i] = x[0]\n",
        "      cumulative_return_y[i] = y[0]\n",
        "    else:\n",
        "      cumulative_return_x[i] = cumulative_return_x[i - 1] + x[i]\n",
        "      cumulative_return_y[i] = cumulative_return_y[i - 1] + y[i]\n",
        "    if (MI_u_v[i] <= ci_lower and MI_v_u[i] >= ci_upper):\n",
        "      trade_signal[i] = 2\n",
        "      n_open_positions_2 +=1 \n",
        "    if (MI_u_v[i] >= ci_upper and MI_v_u[i] <= ci_lower):\n",
        "      trade_signal[i] = 1\n",
        "      n_open_positions_1 +=1\n",
        "\n",
        "    if (MI_u_v[i] <= ci_upper and MI_u_v[i] >= 0.5 and MI_v_u[i] <= 0.5 and MI_v_u[i] >= ci_lower and n_open_positions_2 > 0):\n",
        "      ## 2 gets exited\n",
        "      j = i - 1\n",
        "      tmp = 0\n",
        "      while (j >= 0):\n",
        "        if (trade_signal[j] == 4):\n",
        "          break\n",
        "        # if (trade_signal[j] == 1):\n",
        "        #   raise ValueError('Not possible scenario 1 stays withput closing before 2 at {}, {}', i, j)\n",
        "        if (trade_signal[j] == 2):\n",
        "          tmp += 1\n",
        "          n_trades += 2                ## 2 positions being exited at the same time\n",
        "          hold_limit_total += (i - j)\n",
        "          if (hold_limit_min > (i-j)):\n",
        "            hold_limit_min = i-j\n",
        "          if (hold_limit_max < (i - j)):\n",
        "            hold_limit_max = i-j          \n",
        "          avg_returns += ((cumulative_return_x[i] - cumulative_return_x[j] + np.log((1 - abs(slippage_exit_x))/(1 + abs(slippage_open_x)))) - dollar_unit * (cumulative_return_y[i] - cumulative_return_y[j] + np.log((1 + abs(slippage_exit_y))/(1 - abs(slippage_open_y)))))\n",
        "          total_profit += ((math.exp(cumulative_return_x[i] - cumulative_return_x[j])) * ((1 - abs(slippage_exit_x))/(1 + abs(slippage_open_x))) - 1.0) - (dollar_unit * ((math.exp(cumulative_return_y[i] - cumulative_return_y[j])) * ((1 + abs(slippage_exit_y))/(1 - abs(slippage_open_y))) - 1.0))\n",
        "        j -= 1 \n",
        "      if (tmp > 0):\n",
        "        trade_signal[i] = 4\n",
        "      if (n_open_positions_2 != tmp):\n",
        "        raise ValueError('no of open positions does not equal 0 at ', i)          \n",
        "      n_open_positions_2 = 0\n",
        "    \n",
        "    if (MI_u_v[i] >= ci_lower and MI_u_v[i] <= 0.5 and MI_v_u[i] >= 0.5 and MI_v_u[i] <= ci_upper and n_open_positions_1 > 0):\n",
        "      ## 1 gets exited\n",
        "      j = i - 1\n",
        "      tmp = 0\n",
        "      while (j >= 0):\n",
        "        if (trade_signal[j] == 3):\n",
        "          break\n",
        "        # if (trade_signal[j] == 2):\n",
        "        #   raise ValueError('Not possible scenario 2 stays withput closing before 1')\n",
        "        if (trade_signal[j] == 1):\n",
        "          tmp += 1\n",
        "          n_trades += 2                ## 2 positions being exited at the same time\n",
        "          hold_limit_total += (i - j)\n",
        "          if (hold_limit_min > (i-j)):\n",
        "            hold_limit_min = i-j\n",
        "          if (hold_limit_max < (i - j)):\n",
        "            hold_limit_max = i-j          \n",
        "          avg_returns += (dollar_unit * (cumulative_return_y[i] - cumulative_return_y[j] + np.log((1 - abs(slippage_exit_y))/(1 + abs(slippage_open_y)))) -  (cumulative_return_x[i] - cumulative_return_x[j] + np.log((1 + abs(slippage_exit_x))/(1 - abs(slippage_open_x)))))\n",
        "          total_profit += (dollar_unit * ((math.exp(cumulative_return_y[i] - cumulative_return_y[j])) * ((1 - abs(slippage_exit_y))/(1 + abs(slippage_open_y))) - 1.0)) -  ((math.exp(cumulative_return_x[i] - cumulative_return_x[j])) * ((1 + abs(slippage_exit_x))/(1 - abs(slippage_open_x))) - 1.0)\n",
        "        j -= 1 \n",
        "      if (tmp > 0):\n",
        "        trade_signal[i] = 3\n",
        "      if (n_open_positions_1 != tmp):\n",
        "        raise ValueError('no of open positions does not equal 0 at ', i)          \n",
        "      n_open_positions_1 = 0\n",
        "  \n",
        "  avg_returns_lambda = lambda x, y : x/y if (y > 0) else 0.0\n",
        "  \n",
        "  stats = {}\n",
        "  stats['n_trades'] = n_trades\n",
        "  stats['avg_returns'] = avg_returns_lambda(avg_returns, n_trades)\n",
        "  stats['total_profit'] = total_profit - trading_cost * n_trades\n",
        "  stats['ci_upper'] = ci_upper\n",
        "  stats['ci_lower'] = ci_lower\n",
        "  stats['hold_limit_avg'] = avg_returns_lambda(hold_limit_total * 2, n_trades)\n",
        "  stats['hold_limit_min'] = hold_limit_min\n",
        "  stats['hold_limit_max'] = hold_limit_max\n",
        "  return trade_signal, stats "
      ],
      "execution_count": null,
      "outputs": []
    },
    {
      "cell_type": "code",
      "metadata": {
        "id": "9pI8GifdLC44"
      },
      "source": [
        "class Optimize_TraditionalCopula():\n",
        "  def __init__(self, xtrain, ytrain, xtest, ytest, hold_limit, beta, **kwargs):\n",
        "    for key, value in kwargs.items():\n",
        "      if (key == 'trading_cost'):\n",
        "        trading_cost = value\n",
        "      if (key == 'slippage_open_x'):\n",
        "        slippage_open_x = value\n",
        "      if (key == 'slippage_exit_x'):\n",
        "        slippage_exit_x = value\n",
        "      if (key == 'slippage_open_y'):\n",
        "        slippage_open_y = value\n",
        "      if (key == 'slippage_exit_y'):\n",
        "        slippage_exit_y = value\n",
        "      if (key == 'model'):\n",
        "        if (value == 'Student_t'):\n",
        "          self.model = Student_t(xtrain, ytrain, scale = 1)\n",
        "        if (value == 'Clayton'):\n",
        "          self.model = Clayton(xtrain, ytrain)\n",
        "    \n",
        "    ### create trade series for long of xtrain\n",
        "    self.trade_long_train = np.zeros((len(xtrain),), dtype = int)\n",
        "    self.trade_long_train, self.stats_train = trade_Traditional_Copula(0.95, 0.05, xtrain, ytrain, self.model, beta, trading_cost = trading_cost, slippage_open_x = slippage_open_x, slippage_exit_x = slippage_exit_x, slippage_open_y = slippage_open_y, slippage_exit_y = slippage_exit_y)\n",
        "    self.trade_long_test, self.stats_test = trade_Traditional_Copula(0.95, 0.05, xtest, ytest, self.model, beta, trading_cost = trading_cost, slippage_open_x = slippage_open_x, slippage_exit_x = slippage_exit_x, slippage_open_y = slippage_open_y, slippage_exit_y = slippage_exit_y)"
      ],
      "execution_count": null,
      "outputs": []
    },
    {
      "cell_type": "code",
      "metadata": {
        "colab": {
          "base_uri": "https://localhost:8080/",
          "height": 1000
        },
        "id": "0GYCDyzCe9qK",
        "outputId": "c48bc0aa-3973-4690-85d4-074327cd44da"
      },
      "source": [
        "#train-test split\n",
        "sym1, sym2 = 'KO', 'PEP'\n",
        "s1, s2 = get_pair_data(sym1, sym2, num_days = 3650)\n",
        "\n",
        "#print(s1)\n",
        "#print(s2)\n",
        "\n",
        "returns1, returns2 = returns(s1), returns(s2)\n",
        "offset_period = 365 * 2\n",
        "training_period = 365 * 5\n",
        "testing_period = 365\n",
        "rollover_period = 365\n",
        "\n",
        "xtrain, ytrain, xtest, ytest = returns1[offset_period : offset_period + training_period], returns2[offset_period : offset_period + training_period], returns1[offset_period + training_period: offset_period + training_period+testing_period], returns2[offset_period + training_period : offset_period + training_period+testing_period]\n",
        "### assert the length of training data set and test data set and put code for evaluating hedge_coeff\n",
        "# xtrain = np.reshape(xtrain, (len(xtrain)))\n",
        "# ytrain = np.reshape(ytrain, (len(ytrain)))\n",
        "# xtest = np.reshape(xtest, (len(xtest)))\n",
        "# ytest = np.reshape(ytest, (len(ytest)))\n",
        "slippage = 0\n",
        "optimizer_new = Optimize(xtrain, ytrain, xtest, ytest, 30, beta = 1, model='Student_t', trading_cost = 0.0, slippage_open_x = slippage, slippage_open_y = slippage, slippage_exit_x = slippage, slippage_exit_y = slippage) #or 'Clayton'\n",
        "# print(optimizer_new.metrics_long_xtrain_returns)\n",
        "print(optimizer_new.metrics_long_xtrain_profit)\n",
        "# print(optimizer_new.metrics_long_ytrain_returns)\n",
        "print(optimizer_new.metrics_long_ytrain_profit)\n",
        "# print(optimizer_new.metrics_short_xtrain_returns)\n",
        "print(optimizer_new.metrics_short_xtrain_profit)\n",
        "# print(optimizer_new.metrics_short_ytrain_returns)\n",
        "print(optimizer_new.metrics_short_ytrain_profit)\n",
        "\n",
        "# print(optimizer_new.metrics_long_xtest_returns)\n",
        "print(optimizer_new.metrics_long_xtest_profit)\n",
        "# print(optimizer_new.metrics_long_ytest_returns)\n",
        "print(optimizer_new.metrics_long_ytest_profit)\n",
        "# print(optimizer_new.metrics_short_xtest_returns)\n",
        "print(optimizer_new.metrics_short_xtest_profit)\n",
        "# print(optimizer_new.metrics_short_ytest_returns)\n",
        "print(optimizer_new.metrics_short_ytest_profit)\n",
        "optimizer = Optimize_TraditionalCopula(xtrain, ytrain, xtest, ytest, 500, beta = 1, model='Student_t', trading_cost = 0.0, slippage_open_x = slippage, slippage_open_y = slippage, slippage_exit_x = slippage, slippage_exit_y = slippage)\n",
        "print(optimizer.stats_train)\n",
        "print(optimizer.stats_test)\n",
        "\n",
        "#xtrain = "
      ],
      "execution_count": null,
      "outputs": [
        {
          "output_type": "stream",
          "name": "stderr",
          "text": [
            "/usr/local/lib/python3.7/dist-packages/pandas/core/frame.py:4327: SettingWithCopyWarning: \n",
            "A value is trying to be set on a copy of a slice from a DataFrame\n",
            "\n",
            "See the caveats in the documentation: https://pandas.pydata.org/pandas-docs/stable/user_guide/indexing.html#returning-a-view-versus-a-copy\n",
            "  downcast=downcast,\n"
          ]
        },
        {
          "output_type": "stream",
          "name": "stdout",
          "text": [
            "covariance [[1.0, 0.6636811275100869], [0.6636811275100869, 1.0]] \n",
            "\n",
            "univariates [{'df': 4.184886748366709, 'loc': 0.0005575872205406504, 'scale': 0.006870223278147975, 'type': 'copulas.univariate.student_t.StudentTUnivariate'}, {'df': 4.7068451279149155, 'loc': 0.00047866260802269803, 'scale': 0.006693273455994858, 'type': 'copulas.univariate.student_t.StudentTUnivariate'}] \n",
            "\n",
            "columns [0, 1] \n",
            "\n",
            "type copulas.multivariate.gaussian.GaussianMultivariate \n",
            "\n"
          ]
        },
        {
          "output_type": "display_data",
          "data": {
            "image/png": "[encoded data removed]",
            "text/plain": [
              "<Figure size 432x288 with 1 Axes>"
            ]
          },
          "metadata": {
            "needs_background": "light"
          }
        },
        {
          "output_type": "display_data",
          "data": {
            "image/png": "[encoded data removed]",
            "text/plain": [
              "<Figure size 432x288 with 1 Axes>"
            ]
          },
          "metadata": {
            "needs_background": "light"
          }
        },
        {
          "output_type": "stream",
          "name": "stdout",
          "text": [
            "covariance [[1.0, 0.6636811274903622], [0.6636811274903622, 1.0]] \n",
            "\n",
            "univariates [{'df': 4.184885274576951, 'loc': -9.52856138715181e-07, 'scale': 1.0000017411582613, 'type': 'copulas.univariate.student_t.StudentTUnivariate'}, {'df': 4.706867143981736, 'loc': 9.082905438494268e-07, 'scale': 1.000000491743435, 'type': 'copulas.univariate.student_t.StudentTUnivariate'}] \n",
            "\n",
            "columns [0, 1] \n",
            "\n",
            "type copulas.multivariate.gaussian.GaussianMultivariate \n",
            "\n"
          ]
        },
        {
          "output_type": "display_data",
          "data": {
            "image/png": "[encoded data removed]",
            "text/plain": [
              "<Figure size 432x288 with 1 Axes>"
            ]
          },
          "metadata": {
            "needs_background": "light"
          }
        },
        {
          "output_type": "display_data",
          "data": {
            "image/png": "[encoded data removed]",
            "text/plain": [
              "<Figure size 432x288 with 1 Axes>"
            ]
          },
          "metadata": {
            "needs_background": "light"
          }
        },
        {
          "output_type": "stream",
          "name": "stderr",
          "text": [
            "/usr/local/lib/python3.7/dist-packages/ipykernel_launcher.py:76: RuntimeWarning: invalid value encountered in multiply\n",
            "/usr/local/lib/python3.7/dist-packages/ipykernel_launcher.py:78: RuntimeWarning: invalid value encountered in multiply\n",
            "/usr/local/lib/python3.7/dist-packages/ipykernel_launcher.py:193: DeprecationWarning: `np.int` is a deprecated alias for the builtin `int`. To silence this warning, use `int` by itself. Doing this will not modify any behavior and is safe. When replacing `np.int`, you may wish to use e.g. `np.int64` or `np.int32` to specify the precision. If you wish to review your current use, check the release note link for additional information.\n",
            "Deprecated in NumPy 1.20; for more details and guidance: https://numpy.org/devdocs/release/1.20.0-notes.html#deprecations\n",
            "/usr/local/lib/python3.7/dist-packages/ipykernel_launcher.py:209: DeprecationWarning: `np.float` is a deprecated alias for the builtin `float`. To silence this warning, use `float` by itself. Doing this will not modify any behavior and is safe. If you specifically wanted the numpy scalar type, use `np.float64` here.\n",
            "Deprecated in NumPy 1.20; for more details and guidance: https://numpy.org/devdocs/release/1.20.0-notes.html#deprecations\n",
            "/usr/local/lib/python3.7/dist-packages/ipykernel_launcher.py:279: DeprecationWarning: `np.int` is a deprecated alias for the builtin `int`. To silence this warning, use `int` by itself. Doing this will not modify any behavior and is safe. When replacing `np.int`, you may wish to use e.g. `np.int64` or `np.int32` to specify the precision. If you wish to review your current use, check the release note link for additional information.\n",
            "Deprecated in NumPy 1.20; for more details and guidance: https://numpy.org/devdocs/release/1.20.0-notes.html#deprecations\n",
            "/usr/local/lib/python3.7/dist-packages/ipykernel_launcher.py:295: DeprecationWarning: `np.float` is a deprecated alias for the builtin `float`. To silence this warning, use `float` by itself. Doing this will not modify any behavior and is safe. If you specifically wanted the numpy scalar type, use `np.float64` here.\n",
            "Deprecated in NumPy 1.20; for more details and guidance: https://numpy.org/devdocs/release/1.20.0-notes.html#deprecations\n"
          ]
        },
        {
          "output_type": "stream",
          "name": "stdout",
          "text": [
            "{'n_trades': 66, 'n_force_exited': 0, 'avg_returns': 0.0020570224488200323, 'avg_returns_force_exited': 0.0, 'total_profit': 0.141133523339656, 'total_profit_force_exited': 0.0, 'net_returns': 0.0020570224488200323, 'net_total_profit': 0.141133523339656, 'ci_open': 0.045, 'ci_exit': 0.505}\n",
            "{'n_trades': 86, 'n_force_exited': 0, 'avg_returns': 0.002482767454260224, 'avg_returns_force_exited': 0.0, 'total_profit': 0.2215267470088823, 'total_profit_force_exited': 0.0, 'net_returns': 0.002482767454260224, 'net_total_profit': 0.2215267470088823, 'ci_open': 0.055, 'ci_exit': 0.5}\n",
            "{'n_trades': 57, 'n_force_exited': 0, 'avg_returns': 0.0008433512231677654, 'avg_returns_force_exited': -0.0, 'total_profit': 0.042834054165439506, 'total_profit_force_exited': -0.0, 'net_returns': 0.0008433512231677654, 'net_total_profit': 0.042834054165439506, 'ci_open': 0.975, 'ci_exit': 0.48}\n",
            "{'n_trades': 111, 'n_force_exited': 0, 'avg_returns': 0.0003044275091797548, 'avg_returns_force_exited': -0.0, 'total_profit': 0.025561660845458856, 'total_profit_force_exited': -0.0, 'net_returns': 0.0003044275091797548, 'net_total_profit': 0.025561660845458856, 'ci_open': 0.94, 'ci_exit': 0.48}\n",
            "{'n_trades': 6, 'n_force_exited': 0, 'avg_returns': 0.006800863546947054, 'avg_returns_force_exited': 0.0, 'total_profit': 0.04113986372939327, 'total_profit_force_exited': 0.0, 'net_returns': 0.006800863546947054, 'net_total_profit': 0.04113986372939327, 'ci_open': 0.045, 'ci_exit': 0.505}\n",
            "{'n_trades': 25, 'n_force_exited': 0, 'avg_returns': -0.00446769379356489, 'avg_returns_force_exited': 0.0, 'total_profit': -0.10354922808408418, 'total_profit_force_exited': 0.0, 'net_returns': -0.00446769379356489, 'net_total_profit': -0.10354922808408418, 'ci_open': 0.055, 'ci_exit': 0.5}\n",
            "{'n_trades': 3, 'n_force_exited': 0, 'avg_returns': 0.004786102845323225, 'avg_returns_force_exited': -0.0, 'total_profit': 0.014216565879154652, 'total_profit_force_exited': -0.0, 'net_returns': 0.004786102845323225, 'net_total_profit': 0.014216565879154652, 'ci_open': 0.975, 'ci_exit': 0.48}\n",
            "{'n_trades': 19, 'n_force_exited': 0, 'avg_returns': 0.0024515062264637857, 'avg_returns_force_exited': -0.0, 'total_profit': 0.04517107448317126, 'total_profit_force_exited': -0.0, 'net_returns': 0.0024515062264637857, 'net_total_profit': 0.04517107448317126, 'ci_open': 0.94, 'ci_exit': 0.48}\n",
            "covariance [[1.0, 0.6636811275100869], [0.6636811275100869, 1.0]] \n",
            "\n",
            "univariates [{'df': 4.184886748366709, 'loc': 0.0005575872205406504, 'scale': 0.006870223278147975, 'type': 'copulas.univariate.student_t.StudentTUnivariate'}, {'df': 4.7068451279149155, 'loc': 0.00047866260802269803, 'scale': 0.006693273455994858, 'type': 'copulas.univariate.student_t.StudentTUnivariate'}] \n",
            "\n",
            "columns [0, 1] \n",
            "\n",
            "type copulas.multivariate.gaussian.GaussianMultivariate \n",
            "\n"
          ]
        },
        {
          "output_type": "display_data",
          "data": {
            "image/png": "[encoded data removed]",
            "text/plain": [
              "<Figure size 432x288 with 1 Axes>"
            ]
          },
          "metadata": {
            "needs_background": "light"
          }
        },
        {
          "output_type": "display_data",
          "data": {
            "image/png": "[encoded data removed]",
            "text/plain": [
              "<Figure size 432x288 with 1 Axes>"
            ]
          },
          "metadata": {
            "needs_background": "light"
          }
        },
        {
          "output_type": "stream",
          "name": "stdout",
          "text": [
            "covariance [[1.0, 0.6636811274903622], [0.6636811274903622, 1.0]] \n",
            "\n",
            "univariates [{'df': 4.184885274576951, 'loc': -9.52856138715181e-07, 'scale': 1.0000017411582613, 'type': 'copulas.univariate.student_t.StudentTUnivariate'}, {'df': 4.706867143981736, 'loc': 9.082905438494268e-07, 'scale': 1.000000491743435, 'type': 'copulas.univariate.student_t.StudentTUnivariate'}] \n",
            "\n",
            "columns [0, 1] \n",
            "\n",
            "type copulas.multivariate.gaussian.GaussianMultivariate \n",
            "\n"
          ]
        },
        {
          "output_type": "display_data",
          "data": {
            "image/png": "[encoded data removed]",
            "text/plain": [
              "<Figure size 432x288 with 1 Axes>"
            ]
          },
          "metadata": {
            "needs_background": "light"
          }
        },
        {
          "output_type": "display_data",
          "data": {
            "image/png": "[encoded data removed]",
            "text/plain": [
              "<Figure size 432x288 with 1 Axes>"
            ]
          },
          "metadata": {
            "needs_background": "light"
          }
        },
        {
          "output_type": "stream",
          "name": "stdout",
          "text": [
            "{'n_trades': 100, 'avg_returns': 0.00020851185166245956, 'total_profit': 0.021358536057527466, 'ci_upper': 0.95, 'ci_lower': 0.05, 'hold_limit_avg': 4.14, 'hold_limit_min': 1, 'hold_limit_max': 15}\n",
            "{'n_trades': 10, 'avg_returns': -0.0007029157611601549, 'total_profit': -0.006756721991234005, 'ci_upper': 0.95, 'ci_lower': 0.05, 'hold_limit_avg': 4.0, 'hold_limit_min': 3, 'hold_limit_max': 5}\n"
          ]
        },
        {
          "output_type": "stream",
          "name": "stderr",
          "text": [
            "/usr/local/lib/python3.7/dist-packages/ipykernel_launcher.py:26: DeprecationWarning: `np.int` is a deprecated alias for the builtin `int`. To silence this warning, use `int` by itself. Doing this will not modify any behavior and is safe. When replacing `np.int`, you may wish to use e.g. `np.int64` or `np.int32` to specify the precision. If you wish to review your current use, check the release note link for additional information.\n",
            "Deprecated in NumPy 1.20; for more details and guidance: https://numpy.org/devdocs/release/1.20.0-notes.html#deprecations\n",
            "/usr/local/lib/python3.7/dist-packages/ipykernel_launcher.py:34: DeprecationWarning: `np.float` is a deprecated alias for the builtin `float`. To silence this warning, use `float` by itself. Doing this will not modify any behavior and is safe. If you specifically wanted the numpy scalar type, use `np.float64` here.\n",
            "Deprecated in NumPy 1.20; for more details and guidance: https://numpy.org/devdocs/release/1.20.0-notes.html#deprecations\n",
            "/usr/local/lib/python3.7/dist-packages/ipykernel_launcher.py:35: DeprecationWarning: `np.float` is a deprecated alias for the builtin `float`. To silence this warning, use `float` by itself. Doing this will not modify any behavior and is safe. If you specifically wanted the numpy scalar type, use `np.float64` here.\n",
            "Deprecated in NumPy 1.20; for more details and guidance: https://numpy.org/devdocs/release/1.20.0-notes.html#deprecations\n",
            "/usr/local/lib/python3.7/dist-packages/ipykernel_launcher.py:36: DeprecationWarning: `np.float` is a deprecated alias for the builtin `float`. To silence this warning, use `float` by itself. Doing this will not modify any behavior and is safe. If you specifically wanted the numpy scalar type, use `np.float64` here.\n",
            "Deprecated in NumPy 1.20; for more details and guidance: https://numpy.org/devdocs/release/1.20.0-notes.html#deprecations\n",
            "/usr/local/lib/python3.7/dist-packages/ipykernel_launcher.py:37: DeprecationWarning: `np.float` is a deprecated alias for the builtin `float`. To silence this warning, use `float` by itself. Doing this will not modify any behavior and is safe. If you specifically wanted the numpy scalar type, use `np.float64` here.\n",
            "Deprecated in NumPy 1.20; for more details and guidance: https://numpy.org/devdocs/release/1.20.0-notes.html#deprecations\n"
          ]
        }
      ]
    },
    {
      "cell_type": "code",
      "metadata": {
        "colab": {
          "base_uri": "https://localhost:8080/",
          "height": 596
        },
        "id": "DeiNLnc8OjDQ",
        "outputId": "3b8f30d1-b84c-4941-f8f6-5f7473648478"
      },
      "source": [
        "trading_sig = optimizer_new.trade_long_ytest\n",
        "prices = s2[offset_period + training_period : offset_period + training_period+testing_period]\n",
        "returns = ytest\n",
        "colours = []\n",
        "for i in range(len(trading_sig)):\n",
        "  if (trading_sig[i] == 0):\n",
        "    colours.append('b')\n",
        "  elif (trading_sig[i] == 1):\n",
        "    colours.append('r')\n",
        "  elif (trading_sig[i] == 2):\n",
        "    colours.append('g')\n",
        "\n",
        "plt.figure(figsize=(20,20))\n",
        "plt.plot(returns, color = colours)\n",
        "# plt.plot(trading_sig)\n",
        "# # plt.plot(prices)\n",
        "# plt.plot(returns)\n",
        "\n",
        "plt.show()"
      ],
      "execution_count": null,
      "outputs": [
        {
          "output_type": "error",
          "ename": "ValueError",
          "evalue": "ignored",
          "traceback": [
            "\u001b[0;31m---------------------------------------------------------------------------\u001b[0m",
            "\u001b[0;31mValueError\u001b[0m                                Traceback (most recent call last)",
            "\u001b[0;32m/usr/local/lib/python3.7/dist-packages/IPython/core/formatters.py\u001b[0m in \u001b[0;36m__call__\u001b[0;34m(self, obj)\u001b[0m\n\u001b[1;32m    332\u001b[0m                 \u001b[0;32mpass\u001b[0m\u001b[0;34m\u001b[0m\u001b[0;34m\u001b[0m\u001b[0m\n\u001b[1;32m    333\u001b[0m             \u001b[0;32melse\u001b[0m\u001b[0;34m:\u001b[0m\u001b[0;34m\u001b[0m\u001b[0;34m\u001b[0m\u001b[0m\n\u001b[0;32m--> 334\u001b[0;31m                 \u001b[0;32mreturn\u001b[0m \u001b[0mprinter\u001b[0m\u001b[0;34m(\u001b[0m\u001b[0mobj\u001b[0m\u001b[0;34m)\u001b[0m\u001b[0;34m\u001b[0m\u001b[0;34m\u001b[0m\u001b[0m\n\u001b[0m\u001b[1;32m    335\u001b[0m             \u001b[0;31m# Finally look for special method names\u001b[0m\u001b[0;34m\u001b[0m\u001b[0;34m\u001b[0m\u001b[0;34m\u001b[0m\u001b[0m\n\u001b[1;32m    336\u001b[0m             \u001b[0mmethod\u001b[0m \u001b[0;34m=\u001b[0m \u001b[0mget_real_method\u001b[0m\u001b[0;34m(\u001b[0m\u001b[0mobj\u001b[0m\u001b[0;34m,\u001b[0m \u001b[0mself\u001b[0m\u001b[0;34m.\u001b[0m\u001b[0mprint_method\u001b[0m\u001b[0;34m)\u001b[0m\u001b[0;34m\u001b[0m\u001b[0;34m\u001b[0m\u001b[0m\n",
            "\u001b[0;32m/usr/local/lib/python3.7/dist-packages/IPython/core/pylabtools.py\u001b[0m in \u001b[0;36m<lambda>\u001b[0;34m(fig)\u001b[0m\n\u001b[1;32m    239\u001b[0m \u001b[0;34m\u001b[0m\u001b[0m\n\u001b[1;32m    240\u001b[0m     \u001b[0;32mif\u001b[0m \u001b[0;34m'png'\u001b[0m \u001b[0;32min\u001b[0m \u001b[0mformats\u001b[0m\u001b[0;34m:\u001b[0m\u001b[0;34m\u001b[0m\u001b[0;34m\u001b[0m\u001b[0m\n\u001b[0;32m--> 241\u001b[0;31m         \u001b[0mpng_formatter\u001b[0m\u001b[0;34m.\u001b[0m\u001b[0mfor_type\u001b[0m\u001b[0;34m(\u001b[0m\u001b[0mFigure\u001b[0m\u001b[0;34m,\u001b[0m \u001b[0;32mlambda\u001b[0m \u001b[0mfig\u001b[0m\u001b[0;34m:\u001b[0m \u001b[0mprint_figure\u001b[0m\u001b[0;34m(\u001b[0m\u001b[0mfig\u001b[0m\u001b[0;34m,\u001b[0m \u001b[0;34m'png'\u001b[0m\u001b[0;34m,\u001b[0m \u001b[0;34m**\u001b[0m\u001b[0mkwargs\u001b[0m\u001b[0;34m)\u001b[0m\u001b[0;34m)\u001b[0m\u001b[0;34m\u001b[0m\u001b[0;34m\u001b[0m\u001b[0m\n\u001b[0m\u001b[1;32m    242\u001b[0m     \u001b[0;32mif\u001b[0m \u001b[0;34m'retina'\u001b[0m \u001b[0;32min\u001b[0m \u001b[0mformats\u001b[0m \u001b[0;32mor\u001b[0m \u001b[0;34m'png2x'\u001b[0m \u001b[0;32min\u001b[0m \u001b[0mformats\u001b[0m\u001b[0;34m:\u001b[0m\u001b[0;34m\u001b[0m\u001b[0;34m\u001b[0m\u001b[0m\n\u001b[1;32m    243\u001b[0m         \u001b[0mpng_formatter\u001b[0m\u001b[0;34m.\u001b[0m\u001b[0mfor_type\u001b[0m\u001b[0;34m(\u001b[0m\u001b[0mFigure\u001b[0m\u001b[0;34m,\u001b[0m \u001b[0;32mlambda\u001b[0m \u001b[0mfig\u001b[0m\u001b[0;34m:\u001b[0m \u001b[0mretina_figure\u001b[0m\u001b[0;34m(\u001b[0m\u001b[0mfig\u001b[0m\u001b[0;34m,\u001b[0m \u001b[0;34m**\u001b[0m\u001b[0mkwargs\u001b[0m\u001b[0;34m)\u001b[0m\u001b[0;34m)\u001b[0m\u001b[0;34m\u001b[0m\u001b[0;34m\u001b[0m\u001b[0m\n",
            "\u001b[0;32m/usr/local/lib/python3.7/dist-packages/IPython/core/pylabtools.py\u001b[0m in \u001b[0;36mprint_figure\u001b[0;34m(fig, fmt, bbox_inches, **kwargs)\u001b[0m\n\u001b[1;32m    123\u001b[0m \u001b[0;34m\u001b[0m\u001b[0m\n\u001b[1;32m    124\u001b[0m     \u001b[0mbytes_io\u001b[0m \u001b[0;34m=\u001b[0m \u001b[0mBytesIO\u001b[0m\u001b[0;34m(\u001b[0m\u001b[0;34m)\u001b[0m\u001b[0;34m\u001b[0m\u001b[0;34m\u001b[0m\u001b[0m\n\u001b[0;32m--> 125\u001b[0;31m     \u001b[0mfig\u001b[0m\u001b[0;34m.\u001b[0m\u001b[0mcanvas\u001b[0m\u001b[0;34m.\u001b[0m\u001b[0mprint_figure\u001b[0m\u001b[0;34m(\u001b[0m\u001b[0mbytes_io\u001b[0m\u001b[0;34m,\u001b[0m \u001b[0;34m**\u001b[0m\u001b[0mkw\u001b[0m\u001b[0;34m)\u001b[0m\u001b[0;34m\u001b[0m\u001b[0;34m\u001b[0m\u001b[0m\n\u001b[0m\u001b[1;32m    126\u001b[0m     \u001b[0mdata\u001b[0m \u001b[0;34m=\u001b[0m \u001b[0mbytes_io\u001b[0m\u001b[0;34m.\u001b[0m\u001b[0mgetvalue\u001b[0m\u001b[0;34m(\u001b[0m\u001b[0;34m)\u001b[0m\u001b[0;34m\u001b[0m\u001b[0;34m\u001b[0m\u001b[0m\n\u001b[1;32m    127\u001b[0m     \u001b[0;32mif\u001b[0m \u001b[0mfmt\u001b[0m \u001b[0;34m==\u001b[0m \u001b[0;34m'svg'\u001b[0m\u001b[0;34m:\u001b[0m\u001b[0;34m\u001b[0m\u001b[0;34m\u001b[0m\u001b[0m\n",
            "\u001b[0;32m/usr/local/lib/python3.7/dist-packages/matplotlib/backend_bases.py\u001b[0m in \u001b[0;36mprint_figure\u001b[0;34m(self, filename, dpi, facecolor, edgecolor, orientation, format, bbox_inches, **kwargs)\u001b[0m\n\u001b[1;32m   2098\u001b[0m                            else suppress())\n\u001b[1;32m   2099\u001b[0m                     \u001b[0;32mwith\u001b[0m \u001b[0mctx\u001b[0m\u001b[0;34m:\u001b[0m\u001b[0;34m\u001b[0m\u001b[0;34m\u001b[0m\u001b[0m\n\u001b[0;32m-> 2100\u001b[0;31m                         \u001b[0mself\u001b[0m\u001b[0;34m.\u001b[0m\u001b[0mfigure\u001b[0m\u001b[0;34m.\u001b[0m\u001b[0mdraw\u001b[0m\u001b[0;34m(\u001b[0m\u001b[0mrenderer\u001b[0m\u001b[0;34m)\u001b[0m\u001b[0;34m\u001b[0m\u001b[0;34m\u001b[0m\u001b[0m\n\u001b[0m\u001b[1;32m   2101\u001b[0m                     \u001b[0mbbox_artists\u001b[0m \u001b[0;34m=\u001b[0m \u001b[0mkwargs\u001b[0m\u001b[0;34m.\u001b[0m\u001b[0mpop\u001b[0m\u001b[0;34m(\u001b[0m\u001b[0;34m\"bbox_extra_artists\"\u001b[0m\u001b[0;34m,\u001b[0m \u001b[0;32mNone\u001b[0m\u001b[0;34m)\u001b[0m\u001b[0;34m\u001b[0m\u001b[0;34m\u001b[0m\u001b[0m\n\u001b[1;32m   2102\u001b[0m                     bbox_inches = self.figure.get_tightbbox(renderer,\n",
            "\u001b[0;32m/usr/local/lib/python3.7/dist-packages/matplotlib/artist.py\u001b[0m in \u001b[0;36mdraw_wrapper\u001b[0;34m(artist, renderer, *args, **kwargs)\u001b[0m\n\u001b[1;32m     36\u001b[0m                 \u001b[0mrenderer\u001b[0m\u001b[0;34m.\u001b[0m\u001b[0mstart_filter\u001b[0m\u001b[0;34m(\u001b[0m\u001b[0;34m)\u001b[0m\u001b[0;34m\u001b[0m\u001b[0;34m\u001b[0m\u001b[0m\n\u001b[1;32m     37\u001b[0m \u001b[0;34m\u001b[0m\u001b[0m\n\u001b[0;32m---> 38\u001b[0;31m             \u001b[0;32mreturn\u001b[0m \u001b[0mdraw\u001b[0m\u001b[0;34m(\u001b[0m\u001b[0martist\u001b[0m\u001b[0;34m,\u001b[0m \u001b[0mrenderer\u001b[0m\u001b[0;34m,\u001b[0m \u001b[0;34m*\u001b[0m\u001b[0margs\u001b[0m\u001b[0;34m,\u001b[0m \u001b[0;34m**\u001b[0m\u001b[0mkwargs\u001b[0m\u001b[0;34m)\u001b[0m\u001b[0;34m\u001b[0m\u001b[0;34m\u001b[0m\u001b[0m\n\u001b[0m\u001b[1;32m     39\u001b[0m         \u001b[0;32mfinally\u001b[0m\u001b[0;34m:\u001b[0m\u001b[0;34m\u001b[0m\u001b[0;34m\u001b[0m\u001b[0m\n\u001b[1;32m     40\u001b[0m             \u001b[0;32mif\u001b[0m \u001b[0martist\u001b[0m\u001b[0;34m.\u001b[0m\u001b[0mget_agg_filter\u001b[0m\u001b[0;34m(\u001b[0m\u001b[0;34m)\u001b[0m \u001b[0;32mis\u001b[0m \u001b[0;32mnot\u001b[0m \u001b[0;32mNone\u001b[0m\u001b[0;34m:\u001b[0m\u001b[0;34m\u001b[0m\u001b[0;34m\u001b[0m\u001b[0m\n",
            "\u001b[0;32m/usr/local/lib/python3.7/dist-packages/matplotlib/figure.py\u001b[0m in \u001b[0;36mdraw\u001b[0;34m(self, renderer)\u001b[0m\n\u001b[1;32m   1734\u001b[0m             \u001b[0mself\u001b[0m\u001b[0;34m.\u001b[0m\u001b[0mpatch\u001b[0m\u001b[0;34m.\u001b[0m\u001b[0mdraw\u001b[0m\u001b[0;34m(\u001b[0m\u001b[0mrenderer\u001b[0m\u001b[0;34m)\u001b[0m\u001b[0;34m\u001b[0m\u001b[0;34m\u001b[0m\u001b[0m\n\u001b[1;32m   1735\u001b[0m             mimage._draw_list_compositing_images(\n\u001b[0;32m-> 1736\u001b[0;31m                 renderer, self, artists, self.suppressComposite)\n\u001b[0m\u001b[1;32m   1737\u001b[0m \u001b[0;34m\u001b[0m\u001b[0m\n\u001b[1;32m   1738\u001b[0m             \u001b[0mrenderer\u001b[0m\u001b[0;34m.\u001b[0m\u001b[0mclose_group\u001b[0m\u001b[0;34m(\u001b[0m\u001b[0;34m'figure'\u001b[0m\u001b[0;34m)\u001b[0m\u001b[0;34m\u001b[0m\u001b[0;34m\u001b[0m\u001b[0m\n",
            "\u001b[0;32m/usr/local/lib/python3.7/dist-packages/matplotlib/image.py\u001b[0m in \u001b[0;36m_draw_list_compositing_images\u001b[0;34m(renderer, parent, artists, suppress_composite)\u001b[0m\n\u001b[1;32m    135\u001b[0m     \u001b[0;32mif\u001b[0m \u001b[0mnot_composite\u001b[0m \u001b[0;32mor\u001b[0m \u001b[0;32mnot\u001b[0m \u001b[0mhas_images\u001b[0m\u001b[0;34m:\u001b[0m\u001b[0;34m\u001b[0m\u001b[0;34m\u001b[0m\u001b[0m\n\u001b[1;32m    136\u001b[0m         \u001b[0;32mfor\u001b[0m \u001b[0ma\u001b[0m \u001b[0;32min\u001b[0m \u001b[0martists\u001b[0m\u001b[0;34m:\u001b[0m\u001b[0;34m\u001b[0m\u001b[0;34m\u001b[0m\u001b[0m\n\u001b[0;32m--> 137\u001b[0;31m             \u001b[0ma\u001b[0m\u001b[0;34m.\u001b[0m\u001b[0mdraw\u001b[0m\u001b[0;34m(\u001b[0m\u001b[0mrenderer\u001b[0m\u001b[0;34m)\u001b[0m\u001b[0;34m\u001b[0m\u001b[0;34m\u001b[0m\u001b[0m\n\u001b[0m\u001b[1;32m    138\u001b[0m     \u001b[0;32melse\u001b[0m\u001b[0;34m:\u001b[0m\u001b[0;34m\u001b[0m\u001b[0;34m\u001b[0m\u001b[0m\n\u001b[1;32m    139\u001b[0m         \u001b[0;31m# Composite any adjacent images together\u001b[0m\u001b[0;34m\u001b[0m\u001b[0;34m\u001b[0m\u001b[0;34m\u001b[0m\u001b[0m\n",
            "\u001b[0;32m/usr/local/lib/python3.7/dist-packages/matplotlib/artist.py\u001b[0m in \u001b[0;36mdraw_wrapper\u001b[0;34m(artist, renderer, *args, **kwargs)\u001b[0m\n\u001b[1;32m     36\u001b[0m                 \u001b[0mrenderer\u001b[0m\u001b[0;34m.\u001b[0m\u001b[0mstart_filter\u001b[0m\u001b[0;34m(\u001b[0m\u001b[0;34m)\u001b[0m\u001b[0;34m\u001b[0m\u001b[0;34m\u001b[0m\u001b[0m\n\u001b[1;32m     37\u001b[0m \u001b[0;34m\u001b[0m\u001b[0m\n\u001b[0;32m---> 38\u001b[0;31m             \u001b[0;32mreturn\u001b[0m \u001b[0mdraw\u001b[0m\u001b[0;34m(\u001b[0m\u001b[0martist\u001b[0m\u001b[0;34m,\u001b[0m \u001b[0mrenderer\u001b[0m\u001b[0;34m,\u001b[0m \u001b[0;34m*\u001b[0m\u001b[0margs\u001b[0m\u001b[0;34m,\u001b[0m \u001b[0;34m**\u001b[0m\u001b[0mkwargs\u001b[0m\u001b[0;34m)\u001b[0m\u001b[0;34m\u001b[0m\u001b[0;34m\u001b[0m\u001b[0m\n\u001b[0m\u001b[1;32m     39\u001b[0m         \u001b[0;32mfinally\u001b[0m\u001b[0;34m:\u001b[0m\u001b[0;34m\u001b[0m\u001b[0;34m\u001b[0m\u001b[0m\n\u001b[1;32m     40\u001b[0m             \u001b[0;32mif\u001b[0m \u001b[0martist\u001b[0m\u001b[0;34m.\u001b[0m\u001b[0mget_agg_filter\u001b[0m\u001b[0;34m(\u001b[0m\u001b[0;34m)\u001b[0m \u001b[0;32mis\u001b[0m \u001b[0;32mnot\u001b[0m \u001b[0;32mNone\u001b[0m\u001b[0;34m:\u001b[0m\u001b[0;34m\u001b[0m\u001b[0;34m\u001b[0m\u001b[0m\n",
            "\u001b[0;32m/usr/local/lib/python3.7/dist-packages/matplotlib/axes/_base.py\u001b[0m in \u001b[0;36mdraw\u001b[0;34m(self, renderer, inframe)\u001b[0m\n\u001b[1;32m   2628\u001b[0m             \u001b[0mrenderer\u001b[0m\u001b[0;34m.\u001b[0m\u001b[0mstop_rasterizing\u001b[0m\u001b[0;34m(\u001b[0m\u001b[0;34m)\u001b[0m\u001b[0;34m\u001b[0m\u001b[0;34m\u001b[0m\u001b[0m\n\u001b[1;32m   2629\u001b[0m \u001b[0;34m\u001b[0m\u001b[0m\n\u001b[0;32m-> 2630\u001b[0;31m         \u001b[0mmimage\u001b[0m\u001b[0;34m.\u001b[0m\u001b[0m_draw_list_compositing_images\u001b[0m\u001b[0;34m(\u001b[0m\u001b[0mrenderer\u001b[0m\u001b[0;34m,\u001b[0m \u001b[0mself\u001b[0m\u001b[0;34m,\u001b[0m \u001b[0martists\u001b[0m\u001b[0;34m)\u001b[0m\u001b[0;34m\u001b[0m\u001b[0;34m\u001b[0m\u001b[0m\n\u001b[0m\u001b[1;32m   2631\u001b[0m \u001b[0;34m\u001b[0m\u001b[0m\n\u001b[1;32m   2632\u001b[0m         \u001b[0mrenderer\u001b[0m\u001b[0;34m.\u001b[0m\u001b[0mclose_group\u001b[0m\u001b[0;34m(\u001b[0m\u001b[0;34m'axes'\u001b[0m\u001b[0;34m)\u001b[0m\u001b[0;34m\u001b[0m\u001b[0;34m\u001b[0m\u001b[0m\n",
            "\u001b[0;32m/usr/local/lib/python3.7/dist-packages/matplotlib/image.py\u001b[0m in \u001b[0;36m_draw_list_compositing_images\u001b[0;34m(renderer, parent, artists, suppress_composite)\u001b[0m\n\u001b[1;32m    135\u001b[0m     \u001b[0;32mif\u001b[0m \u001b[0mnot_composite\u001b[0m \u001b[0;32mor\u001b[0m \u001b[0;32mnot\u001b[0m \u001b[0mhas_images\u001b[0m\u001b[0;34m:\u001b[0m\u001b[0;34m\u001b[0m\u001b[0;34m\u001b[0m\u001b[0m\n\u001b[1;32m    136\u001b[0m         \u001b[0;32mfor\u001b[0m \u001b[0ma\u001b[0m \u001b[0;32min\u001b[0m \u001b[0martists\u001b[0m\u001b[0;34m:\u001b[0m\u001b[0;34m\u001b[0m\u001b[0;34m\u001b[0m\u001b[0m\n\u001b[0;32m--> 137\u001b[0;31m             \u001b[0ma\u001b[0m\u001b[0;34m.\u001b[0m\u001b[0mdraw\u001b[0m\u001b[0;34m(\u001b[0m\u001b[0mrenderer\u001b[0m\u001b[0;34m)\u001b[0m\u001b[0;34m\u001b[0m\u001b[0;34m\u001b[0m\u001b[0m\n\u001b[0m\u001b[1;32m    138\u001b[0m     \u001b[0;32melse\u001b[0m\u001b[0;34m:\u001b[0m\u001b[0;34m\u001b[0m\u001b[0;34m\u001b[0m\u001b[0m\n\u001b[1;32m    139\u001b[0m         \u001b[0;31m# Composite any adjacent images together\u001b[0m\u001b[0;34m\u001b[0m\u001b[0;34m\u001b[0m\u001b[0;34m\u001b[0m\u001b[0m\n",
            "\u001b[0;32m/usr/local/lib/python3.7/dist-packages/matplotlib/artist.py\u001b[0m in \u001b[0;36mdraw_wrapper\u001b[0;34m(artist, renderer, *args, **kwargs)\u001b[0m\n\u001b[1;32m     36\u001b[0m                 \u001b[0mrenderer\u001b[0m\u001b[0;34m.\u001b[0m\u001b[0mstart_filter\u001b[0m\u001b[0;34m(\u001b[0m\u001b[0;34m)\u001b[0m\u001b[0;34m\u001b[0m\u001b[0;34m\u001b[0m\u001b[0m\n\u001b[1;32m     37\u001b[0m \u001b[0;34m\u001b[0m\u001b[0m\n\u001b[0;32m---> 38\u001b[0;31m             \u001b[0;32mreturn\u001b[0m \u001b[0mdraw\u001b[0m\u001b[0;34m(\u001b[0m\u001b[0martist\u001b[0m\u001b[0;34m,\u001b[0m \u001b[0mrenderer\u001b[0m\u001b[0;34m,\u001b[0m \u001b[0;34m*\u001b[0m\u001b[0margs\u001b[0m\u001b[0;34m,\u001b[0m \u001b[0;34m**\u001b[0m\u001b[0mkwargs\u001b[0m\u001b[0;34m)\u001b[0m\u001b[0;34m\u001b[0m\u001b[0;34m\u001b[0m\u001b[0m\n\u001b[0m\u001b[1;32m     39\u001b[0m         \u001b[0;32mfinally\u001b[0m\u001b[0;34m:\u001b[0m\u001b[0;34m\u001b[0m\u001b[0;34m\u001b[0m\u001b[0m\n\u001b[1;32m     40\u001b[0m             \u001b[0;32mif\u001b[0m \u001b[0martist\u001b[0m\u001b[0;34m.\u001b[0m\u001b[0mget_agg_filter\u001b[0m\u001b[0;34m(\u001b[0m\u001b[0;34m)\u001b[0m \u001b[0;32mis\u001b[0m \u001b[0;32mnot\u001b[0m \u001b[0;32mNone\u001b[0m\u001b[0;34m:\u001b[0m\u001b[0;34m\u001b[0m\u001b[0;34m\u001b[0m\u001b[0m\n",
            "\u001b[0;32m/usr/local/lib/python3.7/dist-packages/matplotlib/lines.py\u001b[0m in \u001b[0;36mdraw\u001b[0;34m(self, renderer)\u001b[0m\n\u001b[1;32m    781\u001b[0m                 \u001b[0mself\u001b[0m\u001b[0;34m.\u001b[0m\u001b[0m_set_gc_clip\u001b[0m\u001b[0;34m(\u001b[0m\u001b[0mgc\u001b[0m\u001b[0;34m)\u001b[0m\u001b[0;34m\u001b[0m\u001b[0;34m\u001b[0m\u001b[0m\n\u001b[1;32m    782\u001b[0m \u001b[0;34m\u001b[0m\u001b[0m\n\u001b[0;32m--> 783\u001b[0;31m                 \u001b[0mlc_rgba\u001b[0m \u001b[0;34m=\u001b[0m \u001b[0mmcolors\u001b[0m\u001b[0;34m.\u001b[0m\u001b[0mto_rgba\u001b[0m\u001b[0;34m(\u001b[0m\u001b[0mself\u001b[0m\u001b[0;34m.\u001b[0m\u001b[0m_color\u001b[0m\u001b[0;34m,\u001b[0m \u001b[0mself\u001b[0m\u001b[0;34m.\u001b[0m\u001b[0m_alpha\u001b[0m\u001b[0;34m)\u001b[0m\u001b[0;34m\u001b[0m\u001b[0;34m\u001b[0m\u001b[0m\n\u001b[0m\u001b[1;32m    784\u001b[0m                 \u001b[0mgc\u001b[0m\u001b[0;34m.\u001b[0m\u001b[0mset_foreground\u001b[0m\u001b[0;34m(\u001b[0m\u001b[0mlc_rgba\u001b[0m\u001b[0;34m,\u001b[0m \u001b[0misRGBA\u001b[0m\u001b[0;34m=\u001b[0m\u001b[0;32mTrue\u001b[0m\u001b[0;34m)\u001b[0m\u001b[0;34m\u001b[0m\u001b[0;34m\u001b[0m\u001b[0m\n\u001b[1;32m    785\u001b[0m \u001b[0;34m\u001b[0m\u001b[0m\n",
            "\u001b[0;32m/usr/local/lib/python3.7/dist-packages/matplotlib/colors.py\u001b[0m in \u001b[0;36mto_rgba\u001b[0;34m(c, alpha)\u001b[0m\n\u001b[1;32m    183\u001b[0m         \u001b[0mrgba\u001b[0m \u001b[0;34m=\u001b[0m \u001b[0;32mNone\u001b[0m\u001b[0;34m\u001b[0m\u001b[0;34m\u001b[0m\u001b[0m\n\u001b[1;32m    184\u001b[0m     \u001b[0;32mif\u001b[0m \u001b[0mrgba\u001b[0m \u001b[0;32mis\u001b[0m \u001b[0;32mNone\u001b[0m\u001b[0;34m:\u001b[0m  \u001b[0;31m# Suppress exception chaining of cache lookup failure.\u001b[0m\u001b[0;34m\u001b[0m\u001b[0;34m\u001b[0m\u001b[0m\n\u001b[0;32m--> 185\u001b[0;31m         \u001b[0mrgba\u001b[0m \u001b[0;34m=\u001b[0m \u001b[0m_to_rgba_no_colorcycle\u001b[0m\u001b[0;34m(\u001b[0m\u001b[0mc\u001b[0m\u001b[0;34m,\u001b[0m \u001b[0malpha\u001b[0m\u001b[0;34m)\u001b[0m\u001b[0;34m\u001b[0m\u001b[0;34m\u001b[0m\u001b[0m\n\u001b[0m\u001b[1;32m    186\u001b[0m         \u001b[0;32mtry\u001b[0m\u001b[0;34m:\u001b[0m\u001b[0;34m\u001b[0m\u001b[0;34m\u001b[0m\u001b[0m\n\u001b[1;32m    187\u001b[0m             \u001b[0m_colors_full_map\u001b[0m\u001b[0;34m.\u001b[0m\u001b[0mcache\u001b[0m\u001b[0;34m[\u001b[0m\u001b[0mc\u001b[0m\u001b[0;34m,\u001b[0m \u001b[0malpha\u001b[0m\u001b[0;34m]\u001b[0m \u001b[0;34m=\u001b[0m \u001b[0mrgba\u001b[0m\u001b[0;34m\u001b[0m\u001b[0;34m\u001b[0m\u001b[0m\n",
            "\u001b[0;32m/usr/local/lib/python3.7/dist-packages/matplotlib/colors.py\u001b[0m in \u001b[0;36m_to_rgba_no_colorcycle\u001b[0;34m(c, alpha)\u001b[0m\n\u001b[1;32m    266\u001b[0m         \u001b[0;31m# float)` and `np.array(...).astype(float)` all convert \"0.5\" to 0.5.\u001b[0m\u001b[0;34m\u001b[0m\u001b[0;34m\u001b[0m\u001b[0;34m\u001b[0m\u001b[0m\n\u001b[1;32m    267\u001b[0m         \u001b[0;31m# Test dimensionality to reject single floats.\u001b[0m\u001b[0;34m\u001b[0m\u001b[0;34m\u001b[0m\u001b[0;34m\u001b[0m\u001b[0m\n\u001b[0;32m--> 268\u001b[0;31m         \u001b[0;32mraise\u001b[0m \u001b[0mValueError\u001b[0m\u001b[0;34m(\u001b[0m\u001b[0;34mf\"Invalid RGBA argument: {orig_c!r}\"\u001b[0m\u001b[0;34m)\u001b[0m\u001b[0;34m\u001b[0m\u001b[0;34m\u001b[0m\u001b[0m\n\u001b[0m\u001b[1;32m    269\u001b[0m     \u001b[0;31m# Return a tuple to prevent the cached value from being modified.\u001b[0m\u001b[0;34m\u001b[0m\u001b[0;34m\u001b[0m\u001b[0;34m\u001b[0m\u001b[0m\n\u001b[1;32m    270\u001b[0m     \u001b[0mc\u001b[0m \u001b[0;34m=\u001b[0m \u001b[0mtuple\u001b[0m\u001b[0;34m(\u001b[0m\u001b[0mc\u001b[0m\u001b[0;34m.\u001b[0m\u001b[0mastype\u001b[0m\u001b[0;34m(\u001b[0m\u001b[0mfloat\u001b[0m\u001b[0;34m)\u001b[0m\u001b[0;34m)\u001b[0m\u001b[0;34m\u001b[0m\u001b[0;34m\u001b[0m\u001b[0m\n",
            "\u001b[0;31mValueError\u001b[0m: Invalid RGBA argument: ['b', 'b', 'b', 'b', 'b', 'b', 'b', 'b', 'b', 'b', 'b', 'b', 'b', 'b', 'b', 'b', 'b', 'b', 'b', 'b', 'b', 'b', 'b', 'b', 'b', 'b', 'r', 'g', 'b', 'b', 'b', 'b', 'b', 'b', 'b', 'b', 'b', 'r', 'b', 'g', 'b', 'b', 'b', 'b', 'b', 'b', 'b', 'b', 'b', 'b', 'b', 'b', 'b', 'b', 'b', 'b', 'b', 'b', 'b', 'b', 'b', 'b', 'b', 'b', 'b', 'b', 'b', 'b', 'b', 'b', 'b', 'b', 'b', 'b', 'b', 'b', 'b', 'b', 'b', 'b', 'r', 'g', 'r', 'b', 'g', 'b', 'b', 'b', 'b', 'b', 'r', 'b', 'g', 'b', 'b', 'b', 'r', 'b', 'b', 'g', 'b', 'b', 'b', 'b', 'b', 'b', 'b', 'r', 'b', 'g', 'b', 'b', 'b', 'b', 'b', 'b', 'b', 'b', 'b', 'b', 'b', 'b', 'b', 'b', 'b', 'b', 'b', 'b', 'b', 'b', 'b', 'b', 'b', 'r', 'g', 'b', 'b', 'b', 'b', 'b', 'b', 'b', 'b', 'b', 'b', 'b', 'b', 'b', 'b', 'b', 'b', 'b', 'b', 'b', 'b', 'b', 'b', 'b', 'b', 'r', 'b', 'b', 'g', 'b', 'b', 'b', 'b', 'b', 'b', 'b', 'b', 'b', 'b', 'b', 'b', 'b', 'b', 'b', 'b', 'b', 'b', 'b', 'b', 'b', 'b', 'b', 'b', 'b', 'b', 'r', 'g', 'b', 'b', 'b', 'b', 'b', 'b', 'b', 'b', 'r', 'g', 'b', 'b', 'b', 'b', 'b', 'b', 'b', 'b', 'b', 'b', 'b', 'b', 'b', 'b', 'b', 'b', 'b', 'b', 'b', 'b', 'b', 'b', 'b', 'b', 'b', 'b', 'b', 'b', 'b', 'b', 'r', 'r', 'r', 'r', 'b', 'b', 'g', 'b', 'r', 'b', 'b', 'b', 'g', 'b', 'b', 'b', 'b', 'b', 'b', 'b', 'b', 'b', 'b', 'b', 'b', 'b', 'b', 'b', 'b', 'b', 'b', 'b', 'b', 'b', 'b', 'b', 'b', 'b', 'b', 'b', 'b', 'b', 'b', 'r', 'g', 'b', 'b', 'b', 'b', 'b', 'b', 'b', 'b', 'b', 'r', 'b', 'g', 'r', 'g', ..."
          ]
        },
        {
          "output_type": "display_data",
          "data": {
            "text/plain": [
              "<Figure size 1440x1440 with 1 Axes>"
            ]
          },
          "metadata": {
            "needs_background": "light"
          }
        }
      ]
    },
    {
      "cell_type": "code",
      "metadata": {
        "id": "watEF4ch6-gd"
      },
      "source": [
        "### code to iterate over confidence intervals to find best c.i.\n",
        "### mean reversion spread = x[0:] - hedge_coeff * y[0:] where x and y are logged returns\n",
        "### so that means for every unit of money utilised on stock x we spend hedge_coeff amount of money on stock y\n",
        "### hedge_coeff is beta in our code\n",
        "\n",
        "'''\n",
        "1. Flag by calculation revisit, corner case\n",
        "2. Required stats: \n",
        "  number of trades, \n",
        "  number of force exits (+-2), \n",
        "  average return in case of successful trade, force exits, number of holding days(average, minimum and maximum) for successful trades, force exits\n",
        "3. Trading signals (0 - Hold, 1 - Buy, 2 - Sell, 3 - Exit) \n",
        "'''\n",
        "\n",
        "\n",
        "\n",
        "class OptimizeStrategy2():\n",
        "  def __init__(self, xtrain, ytrain, xtest, ytest, hold_limit, beta, **kwargs):\n",
        "    for key, value in kwargs.items():\n",
        "      if (key == 'model'):\n",
        "        if (value == 'Student_t'):\n",
        "          self.model = Student_t(xtrain, ytrain, scale = 1)\n",
        "        if (value == 'Clayton'):\n",
        "          self.model = Clayton(xtrain, ytrain)\n",
        "    \n",
        "    MI_u_v, MI_v_u = self.model.conditionalCDF(xtrain, ytrain)\n",
        "\n",
        "    #Flag, Action for X\n",
        "    FlagX, ActionX = get_cumulativeFlag(MI_u_v)\n",
        "    #Flag, Action for y\n",
        "    FlagY, ActionY = get_cumulativeFlag(MI_v_u)\n",
        "\n",
        "    cumulative_return = 0\n",
        "    xShort = 0\n",
        "    xLong = 0\n",
        "    yShort = 0\n",
        "    yLong = 0\n",
        "    for ind in range(len(ActionX)):\n",
        "      if (FlagX[ind+1] >= 0.6 and FlagX[ind] < 0.6) or (FlagX[ind+1] <= 0.6 and FlagX[ind] > 0.6): #FlagX Reaches 0.6 \n",
        "        #Short X and buy Y\n",
        "        xShort = xtrain[ind+1]\n",
        "        yLong = ytrain[ind+1]\n",
        "      \n",
        "      elif (FlagX[ind+1] >= -0.6 and FlagX[ind] < -0.6) or (FlagX[ind+1] <= -0.6 and FlagX[ind] > -0.6): #FlagX Reaches -0.6\n",
        "        #Short Y and buy X\n",
        "        yShort = ytrain[ind+1]\n",
        "        xLong = xtrain[ind+1]\n",
        "\n",
        "      elif FlagX[ind+1] == 0:\n",
        "        #Exited\n",
        "        if xShort != 0 and yLong != 0:\n",
        "          cumulative_return += (ytrain[ind+1] - yLong)\n",
        "          cumulative_return -= (xtrain[ind+1] - xShort)\n",
        "          #Reset\n",
        "          yLong = 0\n",
        "          xShort = 0\n",
        "        \n",
        "        elif yShort != 0 and xLong != 0:\n",
        "          cumulative_return += (xtrain[ind+1] - xLong)\n",
        "          cumulative_return += (ytrain[ind+1] - yShort)\n",
        "          #Reset\n",
        "          xLong = 0\n",
        "          yShort = 0\n",
        "\n",
        "      if (FlagY[ind+1] >= 0.6 and FlagY[ind] < 0.6) or (FlagY[ind+1] <= 0.6 and FlagY[ind] > 0.6): #FlagY Reaches 0.6 \n",
        "        #Short Y and buy X\n",
        "        yShort = ytrain[ind+1]\n",
        "        xLong = xtrain[ind+1]\n",
        "        \n",
        "      \n",
        "      elif (FlagY[ind+1] >= -0.6 and FlagY[ind] < -0.6) or (FlagY[ind+1] <= -0.6 and FlagY[ind] > -0.6): #FlagY Reaches -0.6\n",
        "        #Short X and buy Y\n",
        "        xShort = xtrain[ind+1]\n",
        "        yLong = ytrain[ind+1]\n",
        "      \n",
        "      elif FlagY[ind+1] == 0:\n",
        "        #Exited\n",
        "        if xShort != 0 and yLong != 0:\n",
        "          cumulative_return += (ytrain[ind+1] - yLong)\n",
        "          cumulative_return -= (xtrain[ind+1] - xShort)\n",
        "          #Reset\n",
        "          yLong = 0\n",
        "          xShort = 0\n",
        "        \n",
        "        elif yShort != 0 and xLong != 0:\n",
        "          cumulative_return += (xtrain[ind+1] - xLong)\n",
        "          cumulative_return += (ytrain[ind+1] - yShort)\n",
        "          #Reset\n",
        "          xLong = 0\n",
        "          yShort = 0\n",
        "    \n",
        "    print(\"Cumulative Return: \" + str(cumulative_return))\n",
        "    self.cumulative_return = cumulative_return\n",
        "\n",
        "\n",
        "def get_cumulativeFlag(MI):\n",
        "  cmFlag = [0 for _ in range(len(MI))]\n",
        "  action = [] # 1 - Open,  0 - Exit\n",
        "  for ind in range(len(MI) - 1):\n",
        "    cmFlag[ind+1] = cmFlag[ind] + (MI[ind+1] - 0.5)\n",
        "    if cmFlag[ind+1] <= 0 and cmFlag[ind] > 0: #Reaches 0 from positive\n",
        "      action.append(0) #Exit\n",
        "      cmFlag[ind+1] = 0\n",
        "    \n",
        "    elif cmFlag[ind+1] >=0 and cmFlag[ind] < 0: #Reaches 0 from negative\n",
        "      action.append(0) #Exit\n",
        "      cmFlag[ind+1] = 0\n",
        "    \n",
        "    elif cmFlag[ind+1] >= 2 or cmFlag[ind+1] <=-2:\n",
        "      action.append(0) #Exit\n",
        "      cmFlag[ind+1] = 0\n",
        "    \n",
        "    #else:\n",
        "      #action.append(1) #Open\n",
        "    \n",
        "  return cmFlag, action\n",
        "    \n",
        "  \n",
        "  \n",
        "def tradeLong(ci_open, ci_exit, x, y, hold_limit, model, index, dollar_unit, **kwargs):\n",
        "  \n",
        "  MI_u_v, MI_v_u = model.conditionalCDF(x, y)\n",
        "  plt.scatter(MI_u_v[:, 0], MI_v_u[:,0], s = 4)\n",
        "  plt.show()\n",
        "  length = len(MI_u_v)\n",
        "  ### 0 for do nothing, 1 for open_positon/trade, 2 for exit, 3 for force exit, 4 for open_position and force_exit\n",
        "  trade_signal = np.zeros((length), dtype = np.int)\n",
        "  ### return trade series \n",
        "  ### first fix stock based on index\n",
        "  if (index == 0):\n",
        "    MI = MI_u_v\n",
        "    returns = x\n",
        "  if (index == 1):\n",
        "    MI = MI_v_u\n",
        "    returns = y\n",
        "  n_open_positions = 0\n",
        "  n_trades = 0\n",
        "  n_force_exited = 0\n",
        "  avg_returns = 0.0\n",
        "  avg_returns_force_exited = 0.0\n",
        "  total_profit = 0.0\n",
        "  total_profit_force_exited = 0.0\n",
        "  cumulative_return = np.zeros((len(returns)), dtype = np.float)  \n",
        "  for i in range(length):\n",
        "    if(i == 0):\n",
        "      cumulative_return[i] = returns[0]\n",
        "    else:\n",
        "      cumulative_return[i] = cumulative_return[i - 1] + returns[i]\n",
        "\n",
        "    force_exit = 0\n",
        "    if (MI[i] < ci_open):\n",
        "      trade_signal[i] = 1\n",
        "      n_open_positions +=1 \n",
        "    if (MI[i] > ci_exit and n_open_positions > 0):\n",
        "      trade_signal[i] = 2\n",
        "      n_trades += n_open_positions \n",
        "      for j in range(i - 1, i - hold_limit - 1, -1):\n",
        "        if (trade_signal[j] == 2):\n",
        "          break\n",
        "        if (trade_signal[j] == 1 or trade_signal[j] == 4):\n",
        "          n_open_positions -= 1\n",
        "          avg_returns += (cumulative_return[i] - cumulative_return[j])\n",
        "          total_profit += (dollar_unit * (math.exp(cumulative_return[i] - cumulative_return[j]) - 1.0))\n",
        "      if (n_open_positions != 0):\n",
        "        raise ValueError('no of open positions does not equal 0')\n",
        "      continue\n",
        "    if (i - hold_limit >= 0 and (trade_signal[i - hold_limit] == 1 or trade_signal[i - hold_limit] == 4)):\n",
        "      force_exit = 1\n",
        "      for j in range(i-hold_limit, i):\n",
        "        if(trade_signal[j] == 2):\n",
        "          force_exit = 0\n",
        "          break\n",
        "    if (force_exit == 1):\n",
        "      n_open_positions -= 1\n",
        "      n_force_exited += 1 \n",
        "      avg_returns_force_exited += (cumulative_return[i] - cumulative_return[i - hold_limit])\n",
        "      total_profit_force_exited += (dollar_unit * (math.exp(cumulative_return[i] - cumulative_return[i - hold_limit]) - 1.0))\n",
        "      if (trade_signal[i] == 1):\n",
        "        trade_signal[i] = 4\n",
        "      else:\n",
        "        trade_signal[i] = 3\n",
        "  \n",
        "  avg_returns_lambda = lambda x, y : x/y if (y > 0) else 0.0\n",
        "  \n",
        "  stats = {}\n",
        "  stats['n_trades'] = n_trades\n",
        "  stats['n_force_exited'] = n_force_exited\n",
        "  stats['avg_returns'] = avg_returns_lambda(avg_returns, n_trades)\n",
        "  stats['avg_returns_force_exited'] = avg_returns_lambda(avg_returns_force_exited, n_force_exited)\n",
        "  stats['total_profit'] = total_profit\n",
        "  stats['total_profit_force_exited'] = total_profit_force_exited\n",
        "  stats['net_returns'] = avg_returns_lambda(avg_returns + avg_returns_force_exited, n_trades + n_force_exited)\n",
        "  stats['net_total_profit'] = total_profit + total_profit_force_exited\n",
        "  stats['ci_open'] = ci_open\n",
        "  stats['ci_exit'] = ci_exit\n",
        "  return trade_signal, stats  \n",
        "\n",
        "def tradeShort(ci_open, ci_exit, x, y, hold_limit, model, index, dollar_unit):\n",
        "  MI_u_v, MI_v_u = model.conditionalCDF(x, y)\n",
        "  length = len(MI_u_v)\n",
        "  ### 0 for do nothing, 1 for open_positon/trade, 2 for exit, 3 for force exit, 4 for open_position and force_exit\n",
        "  trade_signal = np.zeros((length), dtype = np.int)\n",
        "  ### return trade series \n",
        "  ### first fix stock based on index\n",
        "  if (index == 0):\n",
        "    MI = MI_u_v\n",
        "    returns = x\n",
        "  if (index == 1):\n",
        "    MI = MI_v_u\n",
        "    returns = y\n",
        "  n_open_positions = 0\n",
        "  n_trades = 0\n",
        "  n_force_exited = 0\n",
        "  avg_returns = 0.0\n",
        "  avg_returns_force_exited = 0.0\n",
        "  total_profit = 0.0\n",
        "  total_profit_force_exited = 0.0\n",
        "  cumulative_return = np.zeros((len(returns)), dtype = np.float)  \n",
        "  \n",
        "  for i in range(length):\n",
        "    if(i == 0):\n",
        "      cumulative_return[i] = returns[0]\n",
        "    else:\n",
        "      cumulative_return[i] = cumulative_return[i - 1] + returns[i]\n",
        "\n",
        "    force_exit = 0\n",
        "    if (MI[i] > ci_open):\n",
        "      trade_signal[i] = 1\n",
        "      n_open_positions +=1 \n",
        "    if (MI[i] < ci_exit and n_open_positions > 0):\n",
        "      trade_signal[i] = 2\n",
        "      n_trades += n_open_positions \n",
        "      for j in range(i - 1, i - hold_limit - 1, -1):\n",
        "        if (trade_signal[j] == 2):\n",
        "          break\n",
        "        if (trade_signal[j] == 1 or trade_signal[j] == 4):\n",
        "          n_open_positions -= 1\n",
        "          avg_returns += (cumulative_return[i] - cumulative_return[j])\n",
        "          total_profit += (dollar_unit * (math.exp(cumulative_return[i] - cumulative_return[j]) - 1.0))\n",
        "      if (n_open_positions != 0):\n",
        "        raise ValueError('no of open positions does not equal 0')\n",
        "      continue\n",
        "    if (i - hold_limit >= 0 and (trade_signal[i - hold_limit] == 1 or trade_signal[i - hold_limit] == 4)):\n",
        "      force_exit = 1\n",
        "      for j in range(i-hold_limit, i):\n",
        "        if(trade_signal[j] == 2):\n",
        "          force_exit = 0\n",
        "          break\n",
        "    if (force_exit == 1):\n",
        "      n_open_positions -= 1\n",
        "      n_force_exited += 1 \n",
        "      avg_returns_force_exited += (cumulative_return[i] - cumulative_return[i - hold_limit])\n",
        "      total_profit_force_exited += (dollar_unit * (math.exp(cumulative_return[i] - cumulative_return[i - hold_limit]) - 1.0))\n",
        "      if (trade_signal[i] == 1):\n",
        "        trade_signal[i] = 4\n",
        "      else:\n",
        "        trade_signal[i] = 3\n",
        "  \n",
        "  avg_returns_lambda = lambda x, y : x/y if (y > 0) else 0.0\n",
        "\n",
        "  stats = {}\n",
        "  stats['n_trades'] = n_trades\n",
        "  stats['n_force_exited'] = n_force_exited\n",
        "  stats['avg_returns'] = avg_returns_lambda(avg_returns, n_trades)\n",
        "  stats['avg_returns_force_exited'] = avg_returns_lambda(avg_returns_force_exited, n_force_exited)\n",
        "  stats['total_profit'] = total_profit\n",
        "  stats['total_profit_force_exited'] = total_profit_force_exited\n",
        "  stats['net_returns'] = avg_returns_lambda(avg_returns + avg_returns_force_exited, n_trades + n_force_exited)\n",
        "  stats['net_total_profit'] = total_profit + total_profit_force_exited\n",
        "  stats['ci_open'] = ci_open\n",
        "  stats['ci_exit'] = ci_exit\n",
        "  return trade_signal, stats"
      ],
      "execution_count": null,
      "outputs": []
    },
    {
      "cell_type": "code",
      "metadata": {
        "colab": {
          "base_uri": "https://localhost:8080/",
          "height": 1000
        },
        "id": "e6dN23PYIw3x",
        "outputId": "1ac33228-ec4f-4082-be67-6e457602ca96"
      },
      "source": [
        "optimizer_strategy2 = OptimizeStrategy2(xtrain, ytrain, xtest, ytest, 500, beta = 1, model='Student_t') #or 'Clayton'"
      ],
      "execution_count": null,
      "outputs": [
        {
          "name": "stderr",
          "output_type": "stream",
          "text": [
            "/usr/local/lib/python3.7/dist-packages/scipy/stats/_continuous_distns.py:639: RuntimeWarning: invalid value encountered in sqrt\n",
            "  sk = 2*(b-a)*np.sqrt(a + b + 1) / (a + b + 2) / np.sqrt(a*b)\n",
            "/usr/local/lib/python3.7/dist-packages/scipy/optimize/minpack.py:175: RuntimeWarning: The iteration is not making good progress, as measured by the \n",
            "  improvement from the last ten iterations.\n",
            "  warnings.warn(msg, RuntimeWarning)\n",
            "/usr/local/lib/python3.7/dist-packages/scipy/stats/_continuous_distns.py:5320: RuntimeWarning: divide by zero encountered in true_divide\n",
            "  return c**2 / (c**2 - n**2)\n",
            "/usr/local/lib/python3.7/dist-packages/scipy/stats/_distn_infrastructure.py:2606: RuntimeWarning: invalid value encountered in double_scalars\n",
            "  Lhat = muhat - Shat*mu\n"
          ]
        },
        {
          "name": "stdout",
          "output_type": "stream",
          "text": [
            "covariance [[1.0, 0.649674033743682], [0.649674033743682, 1.0]] \n",
            "\n",
            "univariates [{'df': 3.113301711680842, 'loc': 0.0005558230035210524, 'scale': 0.007987604966186418, 'type': 'copulas.univariate.student_t.StudentTUnivariate'}, {'df': 3.2371016033265576, 'loc': 0.0003606198206747072, 'scale': 0.007627774222602777, 'type': 'copulas.univariate.student_t.StudentTUnivariate'}] \n",
            "\n",
            "columns [0, 1] \n",
            "\n",
            "type copulas.multivariate.gaussian.GaussianMultivariate \n",
            "\n"
          ]
        },
        {
          "data": {
            "image/png": "[encoded data removed]",
            "text/plain": [
              "<Figure size 432x288 with 1 Axes>"
            ]
          },
          "metadata": {},
          "output_type": "display_data"
        },
        {
          "data": {
            "image/png": "[encoded data removed]",
            "text/plain": [
              "<Figure size 432x288 with 1 Axes>"
            ]
          },
          "metadata": {},
          "output_type": "display_data"
        },
        {
          "name": "stdout",
          "output_type": "stream",
          "text": [
            "covariance [[1.0, 0.6496737729328129], [0.6496737729328129, 1.0]] \n",
            "\n",
            "univariates [{'df': 3.1131958951347753, 'loc': -1.0670582545103842e-05, 'scale': 0.9999862838197262, 'type': 'copulas.univariate.student_t.StudentTUnivariate'}, {'df': 3.2371525127324947, 'loc': -4.57872455608091e-06, 'scale': 1.0000046686981854, 'type': 'copulas.univariate.student_t.StudentTUnivariate'}] \n",
            "\n",
            "columns [0, 1] \n",
            "\n",
            "type copulas.multivariate.gaussian.GaussianMultivariate \n",
            "\n"
          ]
        },
        {
          "data": {
            "image/png": "[encoded data removed]",
            "text/plain": [
              "<Figure size 432x288 with 1 Axes>"
            ]
          },
          "metadata": {},
          "output_type": "display_data"
        },
        {
          "data": {
            "image/png": "[encoded data removed]",
            "text/plain": [
              "<Figure size 432x288 with 1 Axes>"
            ]
          },
          "metadata": {},
          "output_type": "display_data"
        },
        {
          "name": "stdout",
          "output_type": "stream",
          "text": [
            "Cumulative Return: [0.51219539]\n"
          ]
        },
        {
          "name": "stderr",
          "output_type": "stream",
          "text": [
            "/usr/local/lib/python3.7/dist-packages/ipykernel_launcher.py:76: RuntimeWarning: invalid value encountered in multiply\n",
            "/usr/local/lib/python3.7/dist-packages/ipykernel_launcher.py:78: RuntimeWarning: invalid value encountered in multiply\n"
          ]
        }
      ]
    },
    {
      "cell_type": "code",
      "metadata": {
        "colab": {
          "base_uri": "https://localhost:8080/",
          "height": 232
        },
        "id": "EcX1IWntw_ob",
        "outputId": "ff14a8e8-4cc8-4f71-979d-5bfaaff880c2"
      },
      "source": [
        "import numpy as np\n",
        "from scipy import stats\n",
        "from statsmodels.distributions.empirical_distribution import ECDF\n",
        "from scipy.stats import kendalltau, pearsonr, spearmanr\n",
        "from scipy.optimize import minimize\n",
        "from scipy.integrate import quad\n",
        "import sys\n",
        "from collections import deque\n",
        "\n",
        "\n",
        "class CopulaPairsTradingAlgorithm(QCAlgorithm):\n",
        "    \n",
        "    def Initialize(self):\n",
        "        '''Initialize algorithm and add universe'''\n",
        "        \n",
        "        self.SetStartDate(2010, 1, 1)\n",
        "        self.SetEndDate(2020, 1, 1)\n",
        "        self.SetCash(100000)\n",
        "        \n",
        "        self.numdays = 1000       # length of formation period which determine the copula we use\n",
        "        self.lookbackdays = 250   # length of history data in trading period\n",
        "        self.cap_CL = 0.95        # cap confidence level\n",
        "        self.floor_CL = 0.05      # floor confidence level\n",
        "        self.weight_v = 0.5       # desired holding weight of asset v in the portfolio, adjusted to avoid insufficient buying power\n",
        "        self.coef = 0             # to be calculated: requested ratio of quantity_u / quantity_v\n",
        "        self.window = {}          # stores historical price used to calculate trading day's stock return\n",
        "        \n",
        "        self.day = 0              # keep track of current day for daily rebalance\n",
        "        self.month = 0            # keep track of current month for monthly recalculation of optimal trading pair\n",
        "        self.pair = []            # stores the selected trading pair\n",
        "        \n",
        "        # Select optimal trading pair into the universe\n",
        "        self.UniverseSettings.Resolution = Resolution.Daily\n",
        "        self.AddUniverse('PairUniverse', self.PairSelection)\n",
        "\n",
        "\n",
        "    def OnData(self, slice):\n",
        "        '''Main event handler. Implement trading logic.'''\n",
        "\n",
        "        self.SetSignal(slice)     # only executed at first day of each month\n",
        "\n",
        "        # Daily rebalance\n",
        "        if self.Time.day == self.day:\n",
        "            return\n",
        "        \n",
        "        long, short = self.pair[0], self.pair[1]\n",
        "\n",
        "        # Update current price to trading pair's historical price series\n",
        "        for kvp in self.Securities:\n",
        "            symbol = kvp.Key\n",
        "            if symbol in self.pair:\n",
        "                price = kvp.Value.Price\n",
        "                self.window[symbol].append(price)\n",
        "\n",
        "        if len(self.window[long]) < 2 or len(self.window[short]) < 2:\n",
        "            return\n",
        "        \n",
        "        # Compute the mispricing indices for u and v by using estimated copula\n",
        "        MI_u_v, MI_v_u = self._misprice_index()\n",
        "\n",
        "        # Placing orders: if long is relatively underpriced, buy the pair\n",
        "        if MI_u_v < self.floor_CL and MI_v_u > self.cap_CL:\n",
        "            \n",
        "            self.SetHoldings(short, -self.weight_v, False, f'Coef: {self.coef}')\n",
        "            self.SetHoldings(long, self.weight_v * self.coef * self.Portfolio[long].Price / self.Portfolio[short].Price)\n",
        "\n",
        "        # Placing orders: if short is relatively underpriced, sell the pair\n",
        "        elif MI_u_v > self.cap_CL and MI_v_u < self.floor_CL:\n",
        "\n",
        "            self.SetHoldings(short, self.weight_v, False, f'Coef: {self.coef}')\n",
        "            self.SetHoldings(long, -self.weight_v * self.coef * self.Portfolio[long].Price / self.Portfolio[short].Price)\n",
        "        \n",
        "        self.day = self.Time.day\n",
        "\n",
        "\n",
        "    def SetSignal(self, slice):\n",
        "        '''Computes the mispricing indices to generate the trading signals.\n",
        "        It's called on first day of each month'''\n",
        "\n",
        "        if self.Time.month == self.month:\n",
        "            return\n",
        "        \n",
        "        ## Compute the best copula\n",
        "        \n",
        "        # Pull historical log returns used to determine copula\n",
        "        logreturns = self._get_historical_returns(self.pair, self.numdays)\n",
        "        x, y = logreturns[str(self.pair[0])], logreturns[str(self.pair[1])]\n",
        "\n",
        "        # Convert the two returns series to two uniform values u and v using the empirical distribution functions\n",
        "        ecdf_x, ecdf_y  = ECDF(x), ECDF(y)\n",
        "        u, v = [ecdf_x(a) for a in x], [ecdf_y(a) for a in y]\n",
        "        \n",
        "        # Compute the Akaike Information Criterion (AIC) for different copulas and choose copula with minimum AIC\n",
        "        tau = kendalltau(x, y)[0]  # estimate Kendall'rank correlation\n",
        "        AIC ={}  # generate a dict with key being the copula family, value = [theta, AIC]\n",
        "        \n",
        "        for i in ['clayton', 'frank', 'gumbel']:\n",
        "            param = self._parameter(i, tau)\n",
        "            lpdf = [self._lpdf_copula(i, param, x, y) for (x, y) in zip(u, v)]\n",
        "            # Replace nan with zero and inf with finite numbers in lpdf list\n",
        "            lpdf = np.nan_to_num(lpdf) \n",
        "            loglikelihood = sum(lpdf)\n",
        "            AIC[i] = [param, -2 * loglikelihood + 2]\n",
        "            \n",
        "        # Choose the copula with the minimum AIC\n",
        "        self.copula = min(AIC.items(), key = lambda x: x[1][1])[0]\n",
        "        \n",
        "        ## Compute the signals\n",
        "        \n",
        "        # Generate the log return series of the selected trading pair\n",
        "        logreturns = logreturns.tail(self.lookbackdays)\n",
        "        x, y = logreturns[str(self.pair[0])], logreturns[str(self.pair[1])]\n",
        "        \n",
        "        # Estimate Kendall'rank correlation\n",
        "        tau = kendalltau(x, y)[0] \n",
        "        \n",
        "        # Estimate the copula parameter: theta\n",
        "        self.theta = self._parameter(self.copula, tau)\n",
        "        \n",
        "        # Simulate the empirical distribution function for returns of selected trading pair\n",
        "        self.ecdf_x, self.ecdf_y  = ECDF(x), ECDF(y) \n",
        "        \n",
        "        # Run linear regression over the two history return series and return the desired trading size ratio\n",
        "        self.coef = stats.linregress(x,y).slope\n",
        "        \n",
        "        self.month = self.Time.month\n",
        "        \n",
        "\n",
        "    def PairSelection(self, date):\n",
        "        '''Selects the pair of stocks with the maximum Kendall tau value.\n",
        "        It's called on first day of each month'''\n",
        "        \n",
        "        if date.month == self.month:\n",
        "            return Universe.Unchanged\n",
        "        \n",
        "        symbols = [ Symbol.Create(x, SecurityType.Equity, Market.USA) \n",
        "                    for x in [  \n",
        "                                \"QQQ\", \"XLK\",\n",
        "                                \"XME\", \"EWG\", \n",
        "                                \"TNA\", \"TLT\",\n",
        "                                \"FAS\", \"FAZ\",\n",
        "                                \"XLF\", \"XLU\",\n",
        "                                \"EWC\", \"EWA\",\n",
        "                                \"QLD\", \"QID\"\n",
        "                            ] ]\n",
        "\n",
        "        logreturns = self._get_historical_returns(symbols, self.lookbackdays)\n",
        "        \n",
        "        tau = 0\n",
        "        for i in range(0, len(symbols), 2):\n",
        "            \n",
        "            x = logreturns[str(symbols[i])]\n",
        "            y = logreturns[str(symbols[i+1])]\n",
        "            \n",
        "            # Estimate Kendall rank correlation for each pair\n",
        "            tau_ = kendalltau(x, y)[0]\n",
        "            \n",
        "            if tau > tau_:\n",
        "                continue\n",
        "\n",
        "            tau = tau_\n",
        "            self.pair = symbols[i:i+2]\n",
        "        \n",
        "        return [x.Value for x in self.pair]\n",
        "\n",
        "\n",
        "    def OnSecuritiesChanged(self, changes):\n",
        "        '''Warms up the historical price for the newly selected pair.\n",
        "        It's called when current security universe changes'''\n",
        "        \n",
        "        for security in changes.RemovedSecurities:\n",
        "            symbol = security.Symbol\n",
        "            self.window.pop(symbol)\n",
        "            if security.Invested:\n",
        "                self.Liquidate(symbol, \"Removed from Universe\")\n",
        "        \n",
        "        for security in changes.AddedSecurities:\n",
        "            self.window[security.Symbol] = deque(maxlen = 2)\n",
        "        \n",
        "        # Get historical prices\n",
        "        history = self.History(list(self.window.keys()), 2, Resolution.Daily)\n",
        "        history = history.close.unstack(level=0)\n",
        "        for symbol in self.window:\n",
        "            self.window[symbol].append(history[str(symbol)][0])\n",
        "\n",
        "        \n",
        "    def _get_historical_returns(self, symbols, period):\n",
        "        '''Get historical returns for a given set of symbols and a given period\n",
        "        '''\n",
        "        \n",
        "        history = self.History(symbols, period, Resolution.Daily)\n",
        "        history = history.close.unstack(level=0)\n",
        "        return (np.log(history) - np.log(history.shift(1))).dropna()\n",
        "        \n",
        "        \n",
        "    def _parameter(self, family, tau):\n",
        "        ''' Estimate the parameters for three kinds of Archimedean copulas\n",
        "        according to association between Archimedean copulas and the Kendall rank correlation measure\n",
        "        '''\n",
        "        \n",
        "        if  family == 'clayton':\n",
        "            return 2 * tau / (1 - tau)\n",
        "        \n",
        "        elif family == 'frank':\n",
        "            \n",
        "            '''\n",
        "            debye = quad(integrand, sys.float_info.epsilon, theta)[0]/theta  is first order Debye function\n",
        "            frank_fun is the squared difference\n",
        "            Minimize the frank_fun would give the parameter theta for the frank copula \n",
        "            ''' \n",
        "            \n",
        "            integrand = lambda t: t / (np.exp(t) - 1)  # generate the integrand\n",
        "            frank_fun = lambda theta: ((tau - 1) / 4.0  - (quad(integrand, sys.float_info.epsilon, theta)[0] / theta - 1) / theta) ** 2\n",
        "            \n",
        "            return minimize(frank_fun, 4, method='BFGS', tol=1e-5).x \n",
        "        \n",
        "        elif family == 'gumbel':\n",
        "            return 1 / (1 - tau)\n",
        "            \n",
        "\n",
        "    def _lpdf_copula(self, family, theta, u, v):\n",
        "        '''Estimate the log probability density function of three kinds of Archimedean copulas\n",
        "        '''\n",
        "        \n",
        "        if  family == 'clayton':\n",
        "            pdf = (theta + 1) * ((u ** (-theta) + v ** (-theta) - 1) ** (-2 - 1 / theta)) * (u ** (-theta - 1) * v ** (-theta - 1))\n",
        "            \n",
        "        elif family == 'frank':\n",
        "            num = -theta * (np.exp(-theta) - 1) * (np.exp(-theta * (u + v)))\n",
        "            denom = ((np.exp(-theta * u) - 1) * (np.exp(-theta * v) - 1) + (np.exp(-theta) - 1)) ** 2\n",
        "            pdf = num / denom\n",
        "            \n",
        "        elif family == 'gumbel':\n",
        "            A = (-np.log(u)) ** theta + (-np.log(v)) ** theta\n",
        "            c = np.exp(-A ** (1 / theta))\n",
        "            pdf = c * (u * v) ** (-1) * (A ** (-2 + 2 / theta)) * ((np.log(u) * np.log(v)) ** (theta - 1)) * (1 + (theta - 1) * A ** (-1 / theta))\n",
        "            \n",
        "        return np.log(pdf)\n",
        "\n",
        "\n",
        "    def _misprice_index(self):\n",
        "        '''Calculate mispricing index for every day in the trading period by using estimated copula\n",
        "        Mispricing indices are the conditional probability P(U < u | V = v) and P(V < v | U = u)'''\n",
        "        \n",
        "        return_x = np.log(self.window[self.pair[0]][-1] / self.window[self.pair[0]][-2])\n",
        "        return_y = np.log(self.window[self.pair[1]][-1] / self.window[self.pair[1]][-2])\n",
        "        \n",
        "        # Convert the two returns to uniform values u and v using the empirical distribution functions\n",
        "        u = self.ecdf_x(return_x)\n",
        "        v = self.ecdf_y(return_y)\n",
        "        \n",
        "        if self.copula == 'clayton':\n",
        "            MI_u_v = v ** (-self.theta - 1) * (u ** (-self.theta) + v ** (-self.theta) - 1) ** (-1 / self.theta - 1) # P(U<u|V=v)\n",
        "            MI_v_u = u ** (-self.theta - 1) * (u ** (-self.theta) + v ** (-self.theta) - 1) ** (-1 / self.theta - 1) # P(V<v|U=u)\n",
        "    \n",
        "        elif self.copula == 'frank':\n",
        "            A = (np.exp(-self.theta * u) - 1) * (np.exp(-self.theta * v) - 1) + (np.exp(-self.theta * v) - 1)\n",
        "            B = (np.exp(-self.theta * u) - 1) * (np.exp(-self.theta * v) - 1) + (np.exp(-self.theta * u) - 1)\n",
        "            C = (np.exp(-self.theta * u) - 1) * (np.exp(-self.theta * v) - 1) + (np.exp(-self.theta) - 1)\n",
        "            MI_u_v = B / C\n",
        "            MI_v_u = A / C\n",
        "        \n",
        "        elif self.copula == 'gumbel':\n",
        "            A = (-np.log(u)) ** self.theta + (-np.log(v)) ** self.theta\n",
        "            C_uv = np.exp(-A ** (1 / self.theta))   # C_uv is gumbel copula function C(u,v)\n",
        "            MI_u_v = C_uv * (A ** ((1 - self.theta) / self.theta)) * (-np.log(v)) ** (self.theta - 1) * (1.0 / v)\n",
        "            MI_v_u = C_uv * (A ** ((1 - self.theta) / self.theta)) * (-np.log(u)) ** (self.theta - 1) * (1.0 / u)\n",
        "            \n",
        "        return MI_u_v, MI_v_u"
      ],
      "execution_count": null,
      "outputs": [
        {
          "ename": "NameError",
          "evalue": "ignored",
          "output_type": "error",
          "traceback": [
            "\u001b[0;31m---------------------------------------------------------------------------\u001b[0m",
            "\u001b[0;31mNameError\u001b[0m                                 Traceback (most recent call last)",
            "\u001b[0;32m<ipython-input-32-ae07fdf9ea2e>\u001b[0m in \u001b[0;36m<module>\u001b[0;34m()\u001b[0m\n\u001b[1;32m      9\u001b[0m \u001b[0;34m\u001b[0m\u001b[0m\n\u001b[1;32m     10\u001b[0m \u001b[0;34m\u001b[0m\u001b[0m\n\u001b[0;32m---> 11\u001b[0;31m \u001b[0;32mclass\u001b[0m \u001b[0mCopulaPairsTradingAlgorithm\u001b[0m\u001b[0;34m(\u001b[0m\u001b[0mQCAlgorithm\u001b[0m\u001b[0;34m)\u001b[0m\u001b[0;34m:\u001b[0m\u001b[0;34m\u001b[0m\u001b[0;34m\u001b[0m\u001b[0m\n\u001b[0m\u001b[1;32m     12\u001b[0m \u001b[0;34m\u001b[0m\u001b[0m\n\u001b[1;32m     13\u001b[0m     \u001b[0;32mdef\u001b[0m \u001b[0mInitialize\u001b[0m\u001b[0;34m(\u001b[0m\u001b[0mself\u001b[0m\u001b[0;34m)\u001b[0m\u001b[0;34m:\u001b[0m\u001b[0;34m\u001b[0m\u001b[0;34m\u001b[0m\u001b[0m\n",
            "\u001b[0;31mNameError\u001b[0m: name 'QCAlgorithm' is not defined"
          ]
        }
      ]
    },
    {
      "cell_type": "code",
      "metadata": {
        "id": "Acxm_gq2jVW3"
      },
      "source": [
        ""
      ],
      "execution_count": null,
      "outputs": []
    }
  ]
}